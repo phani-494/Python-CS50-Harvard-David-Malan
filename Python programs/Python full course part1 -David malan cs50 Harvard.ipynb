{
 "cells": [
  {
   "cell_type": "markdown",
   "id": "cc2a3e37",
   "metadata": {},
   "source": [
    "# Lec 0\n",
    "## Introduction to programming with Python -David J Malan\n",
    "Functions,conditionals,loops,oops,regular expressions ,libraries,file I/O ...."
   ]
  },
  {
   "cell_type": "markdown",
   "id": "5ba61097",
   "metadata": {},
   "source": [
    "# lec 1\n",
    "## Functions,variables"
   ]
  },
  {
   "cell_type": "raw",
   "id": "a8f0c3d2",
   "metadata": {},
   "source": [
    "CLI -Command Line Interface\n",
    "Python files ends with an extension .py format.\n",
    "print(\"Hello World!\")\n",
    "\n",
    "$ symbol in terminal windows indicates the prompt that where you want to put those commands for CLI.\n",
    "To run a file ,give as  $ python filename.py  \n",
    "Computer understands only 1's and 0's.We need to convert the program to 1's and 0's.\n",
    "So,we use a interpreter here to convert the code into a language understand by computer."
   ]
  },
  {
   "cell_type": "raw",
   "id": "fb6ee74e",
   "metadata": {},
   "source": [
    "A function is like an action or verb that let's you do something in the program.\n",
    "Any language will comes with some pre-determined set of functions.\n",
    "Arguments-An argument is input to a function that somehow influences its behaviour.\n",
    "Side effects--> If we get something as an output in the screen (text,audio,video) after running program, \n",
    "in terms of programming language we call it as side effect.\n"
   ]
  },
  {
   "cell_type": "code",
   "execution_count": 2,
   "id": "d89be292",
   "metadata": {},
   "outputs": [
    {
     "ename": "SyntaxError",
     "evalue": "unexpected EOF while parsing (1004791594.py, line 2)",
     "output_type": "error",
     "traceback": [
      "\u001b[1;36m  File \u001b[1;32m\"C:\\Users\\Phanindra Reddy\\AppData\\Local\\Temp\\ipykernel_11436\\1004791594.py\"\u001b[1;36m, line \u001b[1;32m2\u001b[0m\n\u001b[1;33m    print(\"Hello\"\u001b[0m\n\u001b[1;37m                 ^\u001b[0m\n\u001b[1;31mSyntaxError\u001b[0m\u001b[1;31m:\u001b[0m unexpected EOF while parsing\n"
     ]
    }
   ],
   "source": [
    "# Syntax error example\n",
    "print(\"Hello\""
   ]
  },
  {
   "cell_type": "code",
   "execution_count": 1,
   "id": "1d792291",
   "metadata": {},
   "outputs": [
    {
     "name": "stdout",
     "output_type": "stream",
     "text": [
      "100\n"
     ]
    },
    {
     "data": {
      "text/plain": [
       "'100'"
      ]
     },
     "execution_count": 1,
     "metadata": {},
     "output_type": "execute_result"
    }
   ],
   "source": [
    "# to enter some input by user, we need to use the input() which will ask the user to enter some input.\n",
    "# input --> this will prompt to the user with a blinking cursor waiting for user to type input.\n",
    "input()"
   ]
  },
  {
   "cell_type": "code",
   "execution_count": null,
   "id": "ac3c6634",
   "metadata": {},
   "outputs": [],
   "source": [
    "# we can give an argument to the input function which will print on the screen and asks the user to enter the input .\n",
    "input(\"what's your name ?\")"
   ]
  },
  {
   "cell_type": "raw",
   "id": "73c3613f",
   "metadata": {},
   "source": [
    "# we need the function to return the values.\n",
    "# suppose if u tell a person to find out the result which is like input(action) to that person and in the end he have to give(return) the result to u.\n",
    "# so we will use the variables to store the return value in it. so we can use for future purpose.\n",
    "A variable is like a container which can store text ,int, image, video (inside the memory)."
   ]
  },
  {
   "cell_type": "code",
   "execution_count": 1,
   "id": "073bcb51",
   "metadata": {},
   "outputs": [
    {
     "name": "stdout",
     "output_type": "stream",
     "text": [
      "What is your age?Indra\n",
      "Indra\n"
     ]
    }
   ],
   "source": [
    "name=input(\"What is your age?\")\n",
    "print(name)"
   ]
  },
  {
   "cell_type": "raw",
   "id": "55884e78",
   "metadata": {},
   "source": [
    "# Comments are notes to youself in the code which can be used to describe what is going on in the program."
   ]
  },
  {
   "cell_type": "markdown",
   "id": "bc35bb2f",
   "metadata": {},
   "source": [
    " 1. When you pass multiple argumets to a print(), then it will automatically inserts a space in it\n",
    " 2. print() automatically moves cursor to the next line since it have the argument end=\"/n\" by default."
   ]
  },
  {
   "cell_type": "code",
   "execution_count": 2,
   "id": "21377641",
   "metadata": {},
   "outputs": [
    {
     "name": "stdout",
     "output_type": "stream",
     "text": [
      "Hello\n",
      "Indra\n"
     ]
    }
   ],
   "source": [
    "print(\"Hello\")\n",
    "print(\"Indra\")"
   ]
  },
  {
   "cell_type": "code",
   "execution_count": 3,
   "id": "4fa0b6ee",
   "metadata": {},
   "outputs": [
    {
     "name": "stdout",
     "output_type": "stream",
     "text": [
      "HelloIndra\n"
     ]
    }
   ],
   "source": [
    "# we need to know the type of arguments which will influence the behaviour of the print().\n",
    "print(\"Hello\",end=\"\")\n",
    "print(\"Indra\")"
   ]
  },
  {
   "cell_type": "code",
   "execution_count": 5,
   "id": "613bf991",
   "metadata": {},
   "outputs": [
    {
     "name": "stdout",
     "output_type": "stream",
     "text": [
      "Hello reddyIndra\n"
     ]
    }
   ],
   "source": [
    "print(\"Hello\",\"reddy\",sep=\" \",end=\"\")\n",
    "print(\"Indra\")"
   ]
  },
  {
   "cell_type": "code",
   "execution_count": 9,
   "id": "8d7ee2f2",
   "metadata": {},
   "outputs": [
    {
     "name": "stdout",
     "output_type": "stream",
     "text": [
      "HelloreddyIndra\n"
     ]
    }
   ],
   "source": [
    "# we will override the default value of the end to empty string.\n",
    "print(\"Hello\",\"reddy\",sep=\"\",end=\"\") # since sep is empty there is no space present in between hello and reddy.\n",
    "print(\"Indra\")"
   ]
  },
  {
   "cell_type": "markdown",
   "id": "c6316c9a",
   "metadata": {},
   "source": [
    "### print(*objects,sep=\" \",end=\"\\n\",file=sys.stdout,flush=False)\n",
    "##### everything inside the paranthesis are arguments to the function.\n",
    "###### *objects means it can take any number of the objects as arguments.\n",
    "###### by default, sep have single blank space and end will have the /n which means new line.\n"
   ]
  },
  {
   "cell_type": "code",
   "execution_count": 10,
   "id": "11fd2649",
   "metadata": {},
   "outputs": [
    {
     "ename": "SyntaxError",
     "evalue": "invalid syntax (174616962.py, line 1)",
     "output_type": "error",
     "traceback": [
      "\u001b[1;36m  File \u001b[1;32m\"C:\\Users\\Phanindra Reddy\\AppData\\Local\\Temp\\ipykernel_12872\\174616962.py\"\u001b[1;36m, line \u001b[1;32m1\u001b[0m\n\u001b[1;33m    print(\"hello,\"friend\"\")\u001b[0m\n\u001b[1;37m                  ^\u001b[0m\n\u001b[1;31mSyntaxError\u001b[0m\u001b[1;31m:\u001b[0m invalid syntax\n"
     ]
    }
   ],
   "source": [
    "print(\"hello,\"friend\"\")\n",
    "# we need to use the escape sequence characters here if we want to use \" inside the \" \"."
   ]
  },
  {
   "cell_type": "code",
   "execution_count": 12,
   "id": "134aa6e4",
   "metadata": {},
   "outputs": [
    {
     "name": "stdout",
     "output_type": "stream",
     "text": [
      "hello \"friend\"\n"
     ]
    }
   ],
   "source": [
    "print(\"hello \\\"friend\\\"\")"
   ]
  },
  {
   "cell_type": "code",
   "execution_count": 15,
   "id": "73f6b329",
   "metadata": {},
   "outputs": [
    {
     "name": "stdout",
     "output_type": "stream",
     "text": [
      "hello,Indra\n"
     ]
    }
   ],
   "source": [
    "name=\"Indra\"\n",
    "# f string which means format strings ,a special feature which is to format the string.\n",
    "print(f\"hello,{name}\")"
   ]
  },
  {
   "cell_type": "code",
   "execution_count": 16,
   "id": "e5e770a6",
   "metadata": {},
   "outputs": [
    {
     "name": "stdout",
     "output_type": "stream",
     "text": [
      "what is your name?indra\n",
      "hello indra\n"
     ]
    }
   ],
   "source": [
    "# suppose the user may enter some whitespaces in the name field accidentally.\n",
    "# but we don't want all those whitespaces in the result.\n",
    "# also we want the name to be printed in the title form or the capitalized form.\n",
    "\n",
    "name=input(\"what is your name?\")\n",
    "print(\"hello\",name)"
   ]
  },
  {
   "cell_type": "code",
   "execution_count": 18,
   "id": "3650ded4",
   "metadata": {},
   "outputs": [
    {
     "name": "stdout",
     "output_type": "stream",
     "text": [
      "what is your name?        indra          \n",
      "hello         indra          \n"
     ]
    }
   ],
   "source": [
    "name=input(\"what is your name?\")\n",
    "# here we give the name with whitespaces on both left and right\n",
    "print(\"hello\",name)"
   ]
  },
  {
   "cell_type": "code",
   "execution_count": 19,
   "id": "cfdbef4d",
   "metadata": {},
   "outputs": [
    {
     "name": "stdout",
     "output_type": "stream",
     "text": [
      "what is your name?            indra         \n",
      "hello indra\n"
     ]
    }
   ],
   "source": [
    "# to remove these whitespaces we need to use the strip() here .\n",
    "name=input(\"what is your name?\")\n",
    "\n",
    "name=name.strip()\n",
    "print(\"hello\",name)\n",
    "# removes the whitespaces from left and right side"
   ]
  },
  {
   "cell_type": "code",
   "execution_count": 22,
   "id": "50ded631",
   "metadata": {},
   "outputs": [
    {
     "name": "stdout",
     "output_type": "stream",
     "text": [
      "Indra\n"
     ]
    }
   ],
   "source": [
    "name=name.capitalize()\n",
    "print(name)"
   ]
  },
  {
   "cell_type": "code",
   "execution_count": 2,
   "id": "ffff9bfb",
   "metadata": {},
   "outputs": [
    {
     "name": "stdout",
     "output_type": "stream",
     "text": [
      "what is your name?indrasena reddy \n",
      "hello indrasena reddy\n"
     ]
    }
   ],
   "source": [
    "name=input(\"what is your name?\")\n",
    "\n",
    "name=name.strip()\n",
    "print(\"hello\",name)"
   ]
  },
  {
   "cell_type": "code",
   "execution_count": 3,
   "id": "676aa8b6",
   "metadata": {},
   "outputs": [
    {
     "name": "stdout",
     "output_type": "stream",
     "text": [
      "Indrasena Reddy\n"
     ]
    }
   ],
   "source": [
    "# here we want the r in reddy  also to be capital which means just like a title.\n",
    "# we use string method such as title().\n",
    "name=name.title()\n",
    "print(name)"
   ]
  },
  {
   "cell_type": "code",
   "execution_count": 4,
   "id": "4cddf27d",
   "metadata": {},
   "outputs": [
    {
     "name": "stdout",
     "output_type": "stream",
     "text": [
      "Name please  Phani Lucky \n",
      "Phani Lucky\n"
     ]
    }
   ],
   "source": [
    "# within one line we can give as \n",
    "name=input(\"Name please \").strip().title()\n",
    "print(name)"
   ]
  },
  {
   "cell_type": "code",
   "execution_count": 5,
   "id": "612f8356",
   "metadata": {},
   "outputs": [
    {
     "name": "stdout",
     "output_type": "stream",
     "text": [
      "Phani\n"
     ]
    }
   ],
   "source": [
    "# splitting the user name into first and last name.\n",
    "first,last=name.split(\" \")\n",
    "print(first)"
   ]
  },
  {
   "cell_type": "raw",
   "id": "b2539b37",
   "metadata": {},
   "source": [
    " open cmd and u get this.\n",
    "Microsoft Windows [Version 10.0.22621.1702]\n",
    "(c) Microsoft Corporation. All rights reserved.\n",
    "\n",
    "C:\\Users\\Phanindra Reddy>python\n",
    "Python 3.9.4 (tags/v3.9.4:1f2e308, Apr  6 2021, 13:40:21) [MSC v.1928 64 bit (AMD64)] on win32\n",
    "Type \"help\", \"copyright\", \"credits\" or \"license\" for more information.\n",
    ">>>    --> this is called as interactive mode in python."
   ]
  },
  {
   "cell_type": "code",
   "execution_count": 7,
   "id": "f17bbc47",
   "metadata": {},
   "outputs": [
    {
     "name": "stdout",
     "output_type": "stream",
     "text": [
      "x: 6\n",
      "y: 7\n",
      "13\n"
     ]
    }
   ],
   "source": [
    " print(int(input(\"x: \"))+int(input(\"y: \")))"
   ]
  },
  {
   "cell_type": "raw",
   "id": "3befe5b4",
   "metadata": {},
   "source": [
    "1. It is always better to use float here instead of int as there is chance of entering decimal values also such as 5.5, 7.9, 4.2 etc"
   ]
  },
  {
   "cell_type": "code",
   "execution_count": 9,
   "id": "5ed06232",
   "metadata": {},
   "outputs": [
    {
     "data": {
      "text/plain": [
       "4.6"
      ]
     },
     "execution_count": 9,
     "metadata": {},
     "output_type": "execute_result"
    }
   ],
   "source": [
    "round(4.56,1)"
   ]
  },
  {
   "cell_type": "raw",
   "id": "9d1c76a7",
   "metadata": {},
   "source": [
    "Syntax: round(number[,ndigits])\n",
    "# here don't get confuse by seeing the square brackets.\n",
    "# here they indicates that those are optional.\n",
    "# it takes only one number as it's first argument."
   ]
  },
  {
   "cell_type": "code",
   "execution_count": 10,
   "id": "dea60dbd",
   "metadata": {},
   "outputs": [
    {
     "data": {
      "text/plain": [
       "4"
      ]
     },
     "execution_count": 10,
     "metadata": {},
     "output_type": "execute_result"
    }
   ],
   "source": [
    "round(4.3)"
   ]
  },
  {
   "cell_type": "code",
   "execution_count": 11,
   "id": "c75857c0",
   "metadata": {},
   "outputs": [
    {
     "data": {
      "text/plain": [
       "5"
      ]
     },
     "execution_count": 11,
     "metadata": {},
     "output_type": "execute_result"
    }
   ],
   "source": [
    "round(4.7)"
   ]
  },
  {
   "cell_type": "code",
   "execution_count": 13,
   "id": "47c603e9",
   "metadata": {},
   "outputs": [
    {
     "data": {
      "text/plain": [
       "45.876568"
      ]
     },
     "execution_count": 13,
     "metadata": {},
     "output_type": "execute_result"
    }
   ],
   "source": [
    "round(45.8765676547,6)"
   ]
  },
  {
   "cell_type": "code",
   "execution_count": 15,
   "id": "15b0d24d",
   "metadata": {},
   "outputs": [
    {
     "name": "stdout",
     "output_type": "stream",
     "text": [
      "1000000000\n",
      "1,000,000,000\n"
     ]
    }
   ],
   "source": [
    "# sometimes we want to print the result in formats with commas such as 1,000 rs or 10,000 rs .\n",
    "# we need to use the f strings here.\n",
    "z=int(input())\n",
    "print(f\"{z:,}\")"
   ]
  },
  {
   "cell_type": "code",
   "execution_count": 16,
   "id": "06043a1e",
   "metadata": {},
   "outputs": [
    {
     "name": "stdout",
     "output_type": "stream",
     "text": [
      "10000\n",
      "10,000\n"
     ]
    }
   ],
   "source": [
    "z=int(input())\n",
    "print(f\"{z:,}\")"
   ]
  },
  {
   "cell_type": "code",
   "execution_count": 20,
   "id": "010cf011",
   "metadata": {},
   "outputs": [
    {
     "name": "stdout",
     "output_type": "stream",
     "text": [
      "8765.345678\n",
      "8765.35\n"
     ]
    }
   ],
   "source": [
    "# we can solve the problem in a multiple ways .\n",
    "# sometimes instead of the round(), we can also use f strings to round the decimal values.\n",
    "z=float(input())\n",
    "print(f\"{z:.2f}\")"
   ]
  },
  {
   "cell_type": "code",
   "execution_count": 23,
   "id": "9dabcdce",
   "metadata": {},
   "outputs": [
    {
     "name": "stdout",
     "output_type": "stream",
     "text": [
      "Hello world\n",
      "Hello world\n",
      "Hello world\n"
     ]
    }
   ],
   "source": [
    "def hello():\n",
    "    print(\"Hello world\")\n",
    "hello()\n",
    "hello()\n",
    "hello()"
   ]
  },
  {
   "cell_type": "code",
   "execution_count": 24,
   "id": "2a69cdc9",
   "metadata": {},
   "outputs": [
    {
     "name": "stdout",
     "output_type": "stream",
     "text": [
      "Hello, indra\n",
      "Hello, sena\n",
      "Hello, reddy\n"
     ]
    }
   ],
   "source": [
    "def hello(name):\n",
    "    print(\"Hello,\",name)\n",
    "hello(\"indra\")\n",
    "hello(\"sena\")\n",
    "hello(\"reddy\")"
   ]
  },
  {
   "cell_type": "code",
   "execution_count": 26,
   "id": "8c59436a",
   "metadata": {},
   "outputs": [
    {
     "name": "stdout",
     "output_type": "stream",
     "text": [
      "Hello, world\n",
      "Hello, world\n",
      "Hello, world\n"
     ]
    }
   ],
   "source": [
    "# we can also give the default values to the functions.\n",
    "def hello(a=\"world\"):\n",
    "    print(\"Hello,\",a)\n",
    "hello()\n",
    "hello()\n",
    "hello()"
   ]
  },
  {
   "cell_type": "code",
   "execution_count": 28,
   "id": "87ddcf3b",
   "metadata": {},
   "outputs": [
    {
     "ename": "NameError",
     "evalue": "name 'func1' is not defined",
     "output_type": "error",
     "traceback": [
      "\u001b[1;31m---------------------------------------------------------------------------\u001b[0m",
      "\u001b[1;31mNameError\u001b[0m                                 Traceback (most recent call last)",
      "\u001b[1;32m~\\AppData\\Local\\Temp\\ipykernel_26740\\829480408.py\u001b[0m in \u001b[0;36m<module>\u001b[1;34m\u001b[0m\n\u001b[0;32m      2\u001b[0m \u001b[1;31m# first we need to define a function and then only possible to use it.\u001b[0m\u001b[1;33m\u001b[0m\u001b[1;33m\u001b[0m\u001b[0m\n\u001b[0;32m      3\u001b[0m \u001b[1;33m\u001b[0m\u001b[0m\n\u001b[1;32m----> 4\u001b[1;33m \u001b[0mfunc1\u001b[0m\u001b[1;33m(\u001b[0m\u001b[1;33m)\u001b[0m\u001b[1;33m\u001b[0m\u001b[1;33m\u001b[0m\u001b[0m\n\u001b[0m\u001b[0;32m      5\u001b[0m \u001b[1;32mdef\u001b[0m \u001b[0mfunc1\u001b[0m\u001b[1;33m(\u001b[0m\u001b[1;33m)\u001b[0m\u001b[1;33m:\u001b[0m\u001b[1;33m\u001b[0m\u001b[1;33m\u001b[0m\u001b[0m\n\u001b[0;32m      6\u001b[0m     \u001b[0mprint\u001b[0m\u001b[1;33m(\u001b[0m\u001b[1;34m\"Function 1\"\u001b[0m\u001b[1;33m)\u001b[0m\u001b[1;33m\u001b[0m\u001b[1;33m\u001b[0m\u001b[0m\n",
      "\u001b[1;31mNameError\u001b[0m: name 'func1' is not defined"
     ]
    }
   ],
   "source": [
    "# we cannot call a function which is not defined first.\n",
    "# first we need to define a function and then only possible to use it.\n",
    "\n",
    "func1()\n",
    "def func1():\n",
    "    print(\"Function 1\")"
   ]
  },
  {
   "cell_type": "code",
   "execution_count": 31,
   "id": "947773f0",
   "metadata": {},
   "outputs": [
    {
     "ename": "NameError",
     "evalue": "name 'hello1' is not defined",
     "output_type": "error",
     "traceback": [
      "\u001b[1;31m---------------------------------------------------------------------------\u001b[0m",
      "\u001b[1;31mNameError\u001b[0m                                 Traceback (most recent call last)",
      "\u001b[1;32m~\\AppData\\Local\\Temp\\ipykernel_26740\\2086097996.py\u001b[0m in \u001b[0;36m<module>\u001b[1;34m\u001b[0m\n\u001b[0;32m      2\u001b[0m     \u001b[0mname\u001b[0m\u001b[1;33m=\u001b[0m\u001b[0mhello1\u001b[0m\u001b[1;33m(\u001b[0m\u001b[1;33m)\u001b[0m\u001b[1;33m\u001b[0m\u001b[1;33m\u001b[0m\u001b[0m\n\u001b[0;32m      3\u001b[0m     \u001b[1;32mreturn\u001b[0m \u001b[0mname\u001b[0m\u001b[1;33m\u001b[0m\u001b[1;33m\u001b[0m\u001b[0m\n\u001b[1;32m----> 4\u001b[1;33m \u001b[0mfunc2\u001b[0m\u001b[1;33m(\u001b[0m\u001b[1;33m)\u001b[0m\u001b[1;33m\u001b[0m\u001b[1;33m\u001b[0m\u001b[0m\n\u001b[0m\u001b[0;32m      5\u001b[0m \u001b[1;32mdef\u001b[0m \u001b[0mhello1\u001b[0m\u001b[1;33m(\u001b[0m\u001b[1;33m)\u001b[0m\u001b[1;33m:\u001b[0m\u001b[1;33m\u001b[0m\u001b[1;33m\u001b[0m\u001b[0m\n\u001b[0;32m      6\u001b[0m     \u001b[1;32mreturn\u001b[0m \u001b[1;34m\"indra\"\u001b[0m\u001b[1;33m\u001b[0m\u001b[1;33m\u001b[0m\u001b[0m\n",
      "\u001b[1;32m~\\AppData\\Local\\Temp\\ipykernel_26740\\2086097996.py\u001b[0m in \u001b[0;36mfunc2\u001b[1;34m()\u001b[0m\n\u001b[0;32m      1\u001b[0m \u001b[1;32mdef\u001b[0m \u001b[0mfunc2\u001b[0m\u001b[1;33m(\u001b[0m\u001b[1;33m)\u001b[0m\u001b[1;33m:\u001b[0m\u001b[1;33m\u001b[0m\u001b[1;33m\u001b[0m\u001b[0m\n\u001b[1;32m----> 2\u001b[1;33m     \u001b[0mname\u001b[0m\u001b[1;33m=\u001b[0m\u001b[0mhello1\u001b[0m\u001b[1;33m(\u001b[0m\u001b[1;33m)\u001b[0m\u001b[1;33m\u001b[0m\u001b[1;33m\u001b[0m\u001b[0m\n\u001b[0m\u001b[0;32m      3\u001b[0m     \u001b[1;32mreturn\u001b[0m \u001b[0mname\u001b[0m\u001b[1;33m\u001b[0m\u001b[1;33m\u001b[0m\u001b[0m\n\u001b[0;32m      4\u001b[0m \u001b[0mfunc2\u001b[0m\u001b[1;33m(\u001b[0m\u001b[1;33m)\u001b[0m\u001b[1;33m\u001b[0m\u001b[1;33m\u001b[0m\u001b[0m\n\u001b[0;32m      5\u001b[0m \u001b[1;32mdef\u001b[0m \u001b[0mhello1\u001b[0m\u001b[1;33m(\u001b[0m\u001b[1;33m)\u001b[0m\u001b[1;33m:\u001b[0m\u001b[1;33m\u001b[0m\u001b[1;33m\u001b[0m\u001b[0m\n",
      "\u001b[1;31mNameError\u001b[0m: name 'hello1' is not defined"
     ]
    }
   ],
   "source": [
    "def func2():\n",
    "    name=hello1()\n",
    "    return name\n",
    "func2()\n",
    "def hello1():\n",
    "    return \"indra\"\n",
    "print(name)"
   ]
  },
  {
   "cell_type": "code",
   "execution_count": 32,
   "id": "35b84133",
   "metadata": {},
   "outputs": [
    {
     "name": "stdout",
     "output_type": "stream",
     "text": [
      "None\n"
     ]
    },
    {
     "data": {
      "text/plain": [
       "'indra'"
      ]
     },
     "execution_count": 32,
     "metadata": {},
     "output_type": "execute_result"
    }
   ],
   "source": [
    "def hello1():\n",
    "    return \"indra\"\n",
    "print(name)\n",
    "def func2():\n",
    "    name=hello1()\n",
    "    return name\n",
    "func2()"
   ]
  },
  {
   "cell_type": "code",
   "execution_count": 34,
   "id": "2e25ba91",
   "metadata": {},
   "outputs": [
    {
     "name": "stdout",
     "output_type": "stream",
     "text": [
      "indra  India\n"
     ]
    }
   ],
   "source": [
    "# first try to define all the functions whatever u want to.\n",
    "# then try to call the functions\n",
    "\n",
    "def main():\n",
    "    name=\"indra\"\n",
    "    hello(name)\n",
    "def hello(name):\n",
    "    print(name,\" India\")\n",
    "    \n",
    "main()"
   ]
  },
  {
   "cell_type": "code",
   "execution_count": 35,
   "id": "54220266",
   "metadata": {},
   "outputs": [
    {
     "name": "stdout",
     "output_type": "stream",
     "text": [
      "X :78\n",
      "RESULT is : 6084\n"
     ]
    }
   ],
   "source": [
    "def main():\n",
    "    x=int(input(\"X :\"))\n",
    "    print('RESULT is :',square(x))\n",
    "def square(n):\n",
    "    return n*n\n",
    "main()"
   ]
  },
  {
   "cell_type": "markdown",
   "id": "bbcb29e0",
   "metadata": {},
   "source": [
    "# lec 2\n",
    "## CS50P  Conditionals"
   ]
  },
  {
   "cell_type": "code",
   "execution_count": 37,
   "id": "ce7a14d4",
   "metadata": {},
   "outputs": [
    {
     "name": "stdout",
     "output_type": "stream",
     "text": [
      "Enter marks:76\n",
      "B\n"
     ]
    }
   ],
   "source": [
    "# In python,we can also give the range of values and check whether it is present in it or not.\n",
    "num=int(input(\"Enter marks:\"))\n",
    "if (num>=80 and num<=100):\n",
    "    print(\"A\")\n",
    "else:\n",
    "    print(\"B\")"
   ]
  },
  {
   "cell_type": "code",
   "execution_count": 39,
   "id": "c34560f1",
   "metadata": {},
   "outputs": [
    {
     "name": "stdout",
     "output_type": "stream",
     "text": [
      "Enter marks:92\n",
      "A\n"
     ]
    }
   ],
   "source": [
    "num=int(input(\"Enter marks:\"))\n",
    "if (80<=num<=100): # this is just like range only. we are checking in the boundaries of the values here.\n",
    "    print(\"A\")\n",
    "else:\n",
    "    print(\"B\")"
   ]
  },
  {
   "cell_type": "code",
   "execution_count": 40,
   "id": "c7f4a4ad",
   "metadata": {},
   "outputs": [
    {
     "name": "stdout",
     "output_type": "stream",
     "text": [
      "Even\n"
     ]
    }
   ],
   "source": [
    "n=10\n",
    "if n%2==0:\n",
    "    print(\"Even\")\n",
    "else:\n",
    "    print(\"odd\")"
   ]
  },
  {
   "cell_type": "code",
   "execution_count": 44,
   "id": "4481c49c",
   "metadata": {},
   "outputs": [
    {
     "name": "stdout",
     "output_type": "stream",
     "text": [
      "odd\n"
     ]
    }
   ],
   "source": [
    "# we can write the above four lines in a single line as shown below.\n",
    "n=7\n",
    "print(\"Even\" if n%2==0 else \"odd\")"
   ]
  },
  {
   "cell_type": "code",
   "execution_count": 45,
   "id": "92a41dac",
   "metadata": {},
   "outputs": [
    {
     "data": {
      "text/plain": [
       "False"
      ]
     },
     "execution_count": 45,
     "metadata": {},
     "output_type": "execute_result"
    }
   ],
   "source": [
    "n%2==0"
   ]
  },
  {
   "cell_type": "code",
   "execution_count": 47,
   "id": "65c41a00",
   "metadata": {},
   "outputs": [
    {
     "name": "stdout",
     "output_type": "stream",
     "text": [
      "Lucky\n",
      "India\n"
     ]
    }
   ],
   "source": [
    "name=input()\n",
    "if name==\"Indra\":\n",
    "    print(\"India\")\n",
    "elif name==\"Lucky\":\n",
    "    print(\"India\")\n",
    "elif name==\"Raghu\":\n",
    "    print(\"India\")\n",
    "elif name==\"Larry\":\n",
    "    print(\"America\")\n",
    "else:\n",
    "    print(\"Not India\")"
   ]
  },
  {
   "cell_type": "code",
   "execution_count": 48,
   "id": "e20aa7c7",
   "metadata": {},
   "outputs": [
    {
     "name": "stdout",
     "output_type": "stream",
     "text": [
      "Larry\n",
      "America\n"
     ]
    }
   ],
   "source": [
    "name=input()\n",
    "if name==\"Indra\" or name==\"Lucky\"or name==\"Raghu\" :\n",
    "    print(\"India\")\n",
    "elif name==\"Larry\":\n",
    "    print(\"America\")\n",
    "else:\n",
    "    print(\"Not India\")"
   ]
  },
  {
   "cell_type": "code",
   "execution_count": 49,
   "id": "81a37e43",
   "metadata": {},
   "outputs": [
    {
     "name": "stdout",
     "output_type": "stream",
     "text": [
      "mahi\n",
      "Not India\n"
     ]
    }
   ],
   "source": [
    "name=input()\n",
    "if name==\"Indra\" or name==\"Lucky\"or name==\"Raghu\" :\n",
    "    print(\"India\")\n",
    "elif name==\"Larry\":\n",
    "    print(\"America\")\n",
    "else:\n",
    "    print(\"Not India\")"
   ]
  },
  {
   "cell_type": "code",
   "execution_count": 54,
   "id": "b72fef0a",
   "metadata": {},
   "outputs": [
    {
     "ename": "SyntaxError",
     "evalue": "invalid syntax (391504448.py, line 7)",
     "output_type": "error",
     "traceback": [
      "\u001b[1;36m  File \u001b[1;32m\"C:\\Users\\Phanindra Reddy\\AppData\\Local\\Temp\\ipykernel_26740\\391504448.py\"\u001b[1;36m, line \u001b[1;32m7\u001b[0m\n\u001b[1;33m    match (name):\u001b[0m\n\u001b[1;37m                 ^\u001b[0m\n\u001b[1;31mSyntaxError\u001b[0m\u001b[1;31m:\u001b[0m invalid syntax\n"
     ]
    }
   ],
   "source": [
    "# here we are trying to match the name of a person.\n",
    "# In C programming, we have a switch statements.\n",
    "# similarly in python ,we can use the match keyword here.\n",
    "# this match will works in the latest compilers only.\n",
    "# try this in online compiler. you will get the result.\n",
    "name=input()\n",
    "match (name):\n",
    "    case \"Indra\":\n",
    "        print(\"India\")\n",
    "    case \"Lucky\":\n",
    "        print(\"India\")\n",
    "    case \"Mahi\":\n",
    "        print(\"India\")\n",
    "    case \"Larry\":\n",
    "        print(\"America\")\n",
    "    case _: # here _ means for any other cases except above . simply for all other inputs \n",
    "        print(\"Other country\")"
   ]
  },
  {
   "cell_type": "code",
   "execution_count": 56,
   "id": "11dca07e",
   "metadata": {},
   "outputs": [
    {
     "ename": "SyntaxError",
     "evalue": "invalid syntax (1120910271.py, line 2)",
     "output_type": "error",
     "traceback": [
      "\u001b[1;36m  File \u001b[1;32m\"C:\\Users\\Phanindra Reddy\\AppData\\Local\\Temp\\ipykernel_26740\\1120910271.py\"\u001b[1;36m, line \u001b[1;32m2\u001b[0m\n\u001b[1;33m    match (name):\u001b[0m\n\u001b[1;37m                 ^\u001b[0m\n\u001b[1;31mSyntaxError\u001b[0m\u001b[1;31m:\u001b[0m invalid syntax\n"
     ]
    }
   ],
   "source": [
    "name=input()\n",
    "match (name):\n",
    "    case \"Indra\" | \"Lucky\" | \"mahi\": # we can also give logical or symbol here.\n",
    "        print(\"India\")\n",
    "    case \"Larry\":\n",
    "        print(\"America\")\n",
    "    case _: # here _ means for any other cases except above . simply for all other inputs \n",
    "        print(\"Other country\")"
   ]
  },
  {
   "cell_type": "markdown",
   "id": "6a5497e9",
   "metadata": {},
   "source": [
    "# lec 3\n",
    "## loops"
   ]
  },
  {
   "cell_type": "raw",
   "id": "5294bd20",
   "metadata": {},
   "source": [
    "where there are multiple lines of identical code with same functionality,then we can use loops which will try to repeat the code as we mentioned.\n",
    "loops such as for,while are helpful in this case."
   ]
  },
  {
   "cell_type": "markdown",
   "id": "7d787069",
   "metadata": {},
   "source": [
    "#### while"
   ]
  },
  {
   "cell_type": "code",
   "execution_count": 57,
   "id": "c41ec212",
   "metadata": {},
   "outputs": [
    {
     "name": "stdout",
     "output_type": "stream",
     "text": [
      "How many times u want to repeat?10\n",
      "Meow\n",
      "Meow\n",
      "Meow\n",
      "Meow\n",
      "Meow\n",
      "Meow\n",
      "Meow\n",
      "Meow\n",
      "Meow\n",
      "Meow\n"
     ]
    }
   ],
   "source": [
    "n=int(input(\"How many times u want to repeat?\"))\n",
    "i=0\n",
    "while(i<n):\n",
    "    print(\"Meow\")\n",
    "    i=i+1"
   ]
  },
  {
   "cell_type": "code",
   "execution_count": 60,
   "id": "258ad942",
   "metadata": {},
   "outputs": [
    {
     "name": "stdout",
     "output_type": "stream",
     "text": [
      "Meow\n",
      "Meow\n",
      "Meow\n",
      "Meow\n",
      "Meow\n",
      "Meow\n",
      "Meow\n",
      "Meow\n",
      "Meow\n",
      "Meow\n"
     ]
    }
   ],
   "source": [
    "n=10\n",
    "while(n>0):\n",
    "    print(\"Meow\")\n",
    "    n=n-1"
   ]
  },
  {
   "cell_type": "code",
   "execution_count": 61,
   "id": "4ff5728b",
   "metadata": {},
   "outputs": [
    {
     "name": "stdout",
     "output_type": "stream",
     "text": [
      "Meow\n",
      "Meow\n",
      "Meow\n",
      "Meow\n",
      "Meow\n",
      "Meow\n",
      "Meow\n",
      "Meow\n",
      "Meow\n",
      "Meow\n"
     ]
    }
   ],
   "source": [
    "n=10\n",
    "while(n!=0):\n",
    "    print(\"Meow\")\n",
    "    n=n-1"
   ]
  },
  {
   "cell_type": "raw",
   "id": "0ae44a8a",
   "metadata": {},
   "source": [
    "# if u don't give the last assignment, then the condition in the while will be always True and the loop will always keeps on iterating over and over.\n",
    "n=10\n",
    "while(n!=0):\n",
    "    print(\"Meow\")\n",
    "    #n=n-1 ---> this will be an infinite loop "
   ]
  },
  {
   "cell_type": "code",
   "execution_count": 2,
   "id": "23f4ac45",
   "metadata": {},
   "outputs": [
    {
     "name": "stdout",
     "output_type": "stream",
     "text": [
      "Lucky\n",
      "Lucky\n",
      "Lucky\n"
     ]
    }
   ],
   "source": [
    "i=0\n",
    "while i<3:\n",
    "    print(\"Lucky\")\n",
    "    i+=1"
   ]
  },
  {
   "cell_type": "code",
   "execution_count": 3,
   "id": "dc37e3b6",
   "metadata": {},
   "outputs": [
    {
     "name": "stdout",
     "output_type": "stream",
     "text": [
      "Lucky\n",
      "Lucky\n",
      "Lucky\n"
     ]
    }
   ],
   "source": [
    "i=1\n",
    "while i<=3:\n",
    "    print(\"Lucky\")\n",
    "    i+=1"
   ]
  },
  {
   "cell_type": "code",
   "execution_count": 5,
   "id": "a44d9af3",
   "metadata": {},
   "outputs": [
    {
     "name": "stdout",
     "output_type": "stream",
     "text": [
      "India\n",
      "India\n",
      "India\n"
     ]
    }
   ],
   "source": [
    "# here while loop uses checking the condition and then incrementing or decrementing operations(updating the values each time.\n",
    "# we can avoid these kind of operations by using the for loop.\n",
    "for i in [0,1,2]:\n",
    "    print(\"India\")"
   ]
  },
  {
   "cell_type": "code",
   "execution_count": 7,
   "id": "0589c7c5",
   "metadata": {},
   "outputs": [
    {
     "name": "stdout",
     "output_type": "stream",
     "text": [
      "India\n",
      "India\n",
      "India\n",
      "India\n",
      "India\n",
      "India\n",
      "India\n",
      "India\n",
      "India\n",
      "India\n"
     ]
    }
   ],
   "source": [
    "# see here with only 2 lines we got the result.\n",
    "for i in range(1,11): # end value is not included --> runs 10 times\n",
    "    print(\"India\")"
   ]
  },
  {
   "cell_type": "code",
   "execution_count": 12,
   "id": "3ac723bc",
   "metadata": {},
   "outputs": [
    {
     "name": "stdout",
     "output_type": "stream",
     "text": [
      "0\n",
      "1\n",
      "2\n",
      "3\n",
      "4\n",
      "5\n",
      "6\n",
      "7\n",
      "8\n",
      "9\n"
     ]
    }
   ],
   "source": [
    "for i in range(10): # starts at 0 and ends at 9 here.\n",
    "    print(i)"
   ]
  },
  {
   "cell_type": "code",
   "execution_count": 9,
   "id": "cc416576",
   "metadata": {},
   "outputs": [
    {
     "name": "stdout",
     "output_type": "stream",
     "text": [
      "range(1, 11)\n"
     ]
    }
   ],
   "source": [
    "print(range(1,11))"
   ]
  },
  {
   "cell_type": "code",
   "execution_count": 10,
   "id": "702d6f32",
   "metadata": {},
   "outputs": [
    {
     "data": {
      "text/plain": [
       "range"
      ]
     },
     "execution_count": 10,
     "metadata": {},
     "output_type": "execute_result"
    }
   ],
   "source": [
    "type(range(1, 11))"
   ]
  },
  {
   "cell_type": "code",
   "execution_count": 11,
   "id": "cf3dbbd5",
   "metadata": {},
   "outputs": [
    {
     "name": "stdout",
     "output_type": "stream",
     "text": [
      "India\n",
      "India\n",
      "India\n",
      "India\n",
      "India\n",
      "India\n",
      "India\n",
      "India\n",
      "India\n",
      "India\n"
     ]
    }
   ],
   "source": [
    "# there is no need of using a variable in for loop. we can use simply a _ here in place of i also.\n",
    "for _ in range(10):\n",
    "    print(\"India\")"
   ]
  },
  {
   "cell_type": "code",
   "execution_count": 14,
   "id": "42e6fe72",
   "metadata": {},
   "outputs": [
    {
     "name": "stdout",
     "output_type": "stream",
     "text": [
      "meow meow meow \n"
     ]
    }
   ],
   "source": [
    "# we can also print it in one single line here.\n",
    "print(\"meow \"*3)"
   ]
  },
  {
   "cell_type": "code",
   "execution_count": 17,
   "id": "33ed0392",
   "metadata": {},
   "outputs": [
    {
     "name": "stdout",
     "output_type": "stream",
     "text": [
      "Meow\n",
      "Meow\n",
      "Meow\n",
      "\n"
     ]
    }
   ],
   "source": [
    "# but we want to make sure it in the next line.\n",
    "# so we use the escape sequence characters here.\n",
    "print(\"Meow\\n\"*3)\n",
    "# here see that the cursor moved to  the next line. "
   ]
  },
  {
   "cell_type": "code",
   "execution_count": 18,
   "id": "a9695fa0",
   "metadata": {},
   "outputs": [
    {
     "name": "stdout",
     "output_type": "stream",
     "text": [
      "Meow\n",
      "Meow\n",
      "Meow\n"
     ]
    }
   ],
   "source": [
    "print(\"Meow\\n\"*3,end=\"\")"
   ]
  },
  {
   "cell_type": "raw",
   "id": "ab06c4de",
   "metadata": {},
   "source": [
    "# suppose if u want a user to enter a number which is positive but the user is always keep on entering the negative number.\n",
    "# we need to keep on asking the number to enter the number which is >0.\n",
    "\n",
    "n=int(input(\"enter n:\"))\n",
    "if n<0:\n",
    "    n=int(input(\"enter n:\"))\n",
    "    if n<0:\n",
    "        n=int(input(\"enter n:\"))\n",
    "        if n<0:\n",
    "            n=int(input(\"enter n:\"))\n",
    " --> this is really messy code to keep on writing as we don't know exactly how many times the user wants to enter  input.  "
   ]
  },
  {
   "cell_type": "code",
   "execution_count": 1,
   "id": "813a3fd2",
   "metadata": {},
   "outputs": [
    {
     "name": "stdout",
     "output_type": "stream",
     "text": [
      "Enter the positve number:-100\n",
      "-80\n",
      "-98\n",
      "98\n"
     ]
    }
   ],
   "source": [
    "# so here we use the while loop as a solution.\n",
    "n=int(input('Enter the positve number:'))\n",
    "while(n<0):\n",
    "    n=int(input())"
   ]
  },
  {
   "cell_type": "code",
   "execution_count": 2,
   "id": "56ca5ba0",
   "metadata": {},
   "outputs": [
    {
     "name": "stdout",
     "output_type": "stream",
     "text": [
      "-90\n",
      "-87\n",
      "4\n"
     ]
    }
   ],
   "source": [
    "# here simply we can also use an infinite loop and we can break out of it once the condition is met else the loop will still continue in it.\n",
    "while True:\n",
    "    n=int(input())\n",
    "    if n<0: # as long as n<0, the loop will still continue to run.\n",
    "        continue\n",
    "    else:\n",
    "        break"
   ]
  },
  {
   "cell_type": "code",
   "execution_count": 4,
   "id": "b8ac780a",
   "metadata": {},
   "outputs": [
    {
     "name": "stdout",
     "output_type": "stream",
     "text": [
      "-9\n",
      "-7\n",
      "5\n",
      "I love India\n",
      "I love India\n",
      "I love India\n",
      "I love India\n",
      "I love India\n"
     ]
    }
   ],
   "source": [
    "# now we will try to write the program very very clearly even for the negative numbers also.\n",
    "while True:\n",
    "    n=int(input())\n",
    "    if n>0: # the loop will only breaks when n>0.\n",
    "        break\n",
    "for _ in range(n):\n",
    "    print(\"I love India\")"
   ]
  },
  {
   "cell_type": "code",
   "execution_count": 8,
   "id": "ceb3ae17",
   "metadata": {},
   "outputs": [
    {
     "name": "stdout",
     "output_type": "stream",
     "text": [
      "enter n:-56\n",
      "enter n:-34\n",
      "enter n:15\n",
      "Meow\n",
      "Meow\n",
      "Meow\n",
      "Meow\n",
      "Meow\n",
      "Meow\n",
      "Meow\n",
      "Meow\n",
      "Meow\n",
      "Meow\n",
      "Meow\n",
      "Meow\n",
      "Meow\n",
      "Meow\n",
      "Meow\n"
     ]
    }
   ],
   "source": [
    "# here we will try to write these in the functions \n",
    "def main():\n",
    "    number=get_number()\n",
    "    meow(number)\n",
    "def get_number():\n",
    "    while True:\n",
    "        n=int(input(\"enter n:\"))\n",
    "        if n>0:\n",
    "            return n # instead of break we can also\n",
    "        use the return here since this function needs to return a value \n",
    "def meow(i):\n",
    "    for i in range(i):\n",
    "        print(\"Meow\")\n",
    "main()"
   ]
  },
  {
   "cell_type": "code",
   "execution_count": 7,
   "id": "42413b5a",
   "metadata": {},
   "outputs": [
    {
     "name": "stdout",
     "output_type": "stream",
     "text": [
      "enter n:-32\n",
      "enter n:-19\n",
      "enter n:4\n",
      "Meow\n",
      "Meow\n",
      "Meow\n",
      "Meow\n"
     ]
    }
   ],
   "source": [
    "def main():\n",
    "    number=get_number()\n",
    "    meow(number)\n",
    "def get_number():\n",
    "    while True:\n",
    "        n=int(input(\"enter n:\"))\n",
    "        if n>0:\n",
    "            break\n",
    "    return n  \n",
    "def meow(i):\n",
    "    for i in range(i):\n",
    "        print(\"Meow\")\n",
    "main()"
   ]
  },
  {
   "cell_type": "code",
   "execution_count": 9,
   "id": "4416f5bd",
   "metadata": {},
   "outputs": [
    {
     "name": "stdout",
     "output_type": "stream",
     "text": [
      "Indra\n",
      "chala\n",
      "lucky\n",
      "sudheer\n"
     ]
    }
   ],
   "source": [
    "dict1={\"Indra\":\"kadapa\",\"chala\":\"kadapa\",\"lucky\":\"mysore\",\"sudheer\":\"anantapur\"}\n",
    "for name in dict1: # this will store the keys in name.\n",
    "    print(name)"
   ]
  },
  {
   "cell_type": "code",
   "execution_count": 10,
   "id": "18102226",
   "metadata": {},
   "outputs": [
    {
     "name": "stdout",
     "output_type": "stream",
     "text": [
      "Indra kadapa\n",
      "chala kadapa\n",
      "lucky mysore\n",
      "sudheer anantapur\n"
     ]
    }
   ],
   "source": [
    "dict1={\"Indra\":\"kadapa\",\"chala\":\"kadapa\",\"lucky\":\"mysore\",\"sudheer\":\"anantapur\"}\n",
    "for name in dict1: \n",
    "    print(name,dict1[name])"
   ]
  },
  {
   "cell_type": "code",
   "execution_count": 11,
   "id": "60befc21",
   "metadata": {},
   "outputs": [
    {
     "data": {
      "text/plain": [
       "'kadapa'"
      ]
     },
     "execution_count": 11,
     "metadata": {},
     "output_type": "execute_result"
    }
   ],
   "source": [
    "dict1[\"chala\"]"
   ]
  },
  {
   "cell_type": "code",
   "execution_count": 14,
   "id": "18cb5fba",
   "metadata": {},
   "outputs": [
    {
     "name": "stdout",
     "output_type": "stream",
     "text": [
      "Indra :-> kadapa\n",
      "chala :-> kadapa\n",
      "lucky :-> mysore\n",
      "sudheer :-> anantapur\n"
     ]
    }
   ],
   "source": [
    "dict1={\"Indra\":\"kadapa\",\"chala\":\"kadapa\",\"lucky\":\"mysore\",\"sudheer\":\"anantapur\"}\n",
    "for name in dict1: \n",
    "    print(name,dict1[name],sep=\" :-> \")"
   ]
  },
  {
   "cell_type": "code",
   "execution_count": 21,
   "id": "4b37db2d",
   "metadata": {},
   "outputs": [
    {
     "name": "stdout",
     "output_type": "stream",
     "text": [
      "[{'Name': 'Indra', 'class': '10', 'marks': 98, 'status': 'single'}, {'Name': 'Indrasena', 'class': '9', 'marks': 94, 'status': 'married'}, {'Name': 'phanIndra', 'class': '12', 'marks': 92, 'status': 'single'}, {'Name': 'amarendra', 'class': '12', 'marks': 91, 'status': None}]\n"
     ]
    }
   ],
   "source": [
    "# list of dictionaries\n",
    "# this will have only four keys with Name,class ,marks,status  with each one containing unique values.\n",
    "students=[\n",
    "    {\"Name\":\"Indra\",\"class\":\"10\",\"marks\":98,\"status\":\"single\"},\n",
    "    {\"Name\":\"Indrasena\",\"class\":\"9\",\"marks\":94,\"status\":\"married\"},\n",
    "    {\"Name\":\"phanIndra\",\"class\":\"12\",\"marks\":92,\"status\":\"single\"},\n",
    "    {\"Name\":\"amarendra\",\"class\":\"12\",\"marks\":91,\"status\":None}, # None represents the absence of the value.\n",
    "]\n",
    "print(students)"
   ]
  },
  {
   "cell_type": "code",
   "execution_count": 22,
   "id": "aba0329d",
   "metadata": {},
   "outputs": [
    {
     "name": "stdout",
     "output_type": "stream",
     "text": [
      "{'Name': 'Indra', 'class': '10', 'marks': 98, 'status': 'single'}\n",
      "{'Name': 'Indrasena', 'class': '9', 'marks': 94, 'status': 'married'}\n",
      "{'Name': 'phanIndra', 'class': '12', 'marks': 92, 'status': 'single'}\n",
      "{'Name': 'amarendra', 'class': '12', 'marks': 91, 'status': None}\n"
     ]
    }
   ],
   "source": [
    "for student in students:\n",
    "    print(student)"
   ]
  },
  {
   "cell_type": "code",
   "execution_count": 23,
   "id": "f7f50288",
   "metadata": {},
   "outputs": [
    {
     "name": "stdout",
     "output_type": "stream",
     "text": [
      "Indra\n",
      "Indrasena\n",
      "phanIndra\n",
      "amarendra\n"
     ]
    }
   ],
   "source": [
    "for student in students:\n",
    "    print(student[\"Name\"])"
   ]
  },
  {
   "cell_type": "code",
   "execution_count": 24,
   "id": "0c9f9d1d",
   "metadata": {},
   "outputs": [
    {
     "name": "stdout",
     "output_type": "stream",
     "text": [
      "10\n",
      "9\n",
      "12\n",
      "12\n"
     ]
    }
   ],
   "source": [
    "for student in students:\n",
    "    print(student[\"class\"])"
   ]
  },
  {
   "cell_type": "code",
   "execution_count": 3,
   "id": "8c8fdc7b",
   "metadata": {},
   "outputs": [
    {
     "name": "stdout",
     "output_type": "stream",
     "text": [
      "*****\n",
      "*****\n",
      "*****\n",
      "*****\n",
      "*****\n"
     ]
    }
   ],
   "source": [
    "for i in range(5):\n",
    "    for j in range(5):\n",
    "        print(\"*\",end=\"\")\n",
    "    print()"
   ]
  },
  {
   "cell_type": "code",
   "execution_count": 5,
   "id": "7fa8f03f",
   "metadata": {},
   "outputs": [
    {
     "name": "stdout",
     "output_type": "stream",
     "text": [
      "*****\n",
      "*****\n",
      "*****\n",
      "*****\n",
      "*****\n"
     ]
    }
   ],
   "source": [
    "# with single for loop also we can print this.\n",
    "for j in range(5):\n",
    "    print(\"*\"*5)"
   ]
  },
  {
   "cell_type": "markdown",
   "id": "d2c53118",
   "metadata": {},
   "source": [
    " # lec 4\n",
    "## Exceptions\n",
    "    "
   ]
  },
  {
   "cell_type": "code",
   "execution_count": 6,
   "id": "9eb5e306",
   "metadata": {},
   "outputs": [
    {
     "ename": "SyntaxError",
     "evalue": "EOL while scanning string literal (3923678599.py, line 2)",
     "output_type": "error",
     "traceback": [
      "\u001b[1;36m  File \u001b[1;32m\"C:\\Users\\Phanindra Reddy\\AppData\\Local\\Temp\\ipykernel_5724\\3923678599.py\"\u001b[1;36m, line \u001b[1;32m2\u001b[0m\n\u001b[1;33m    print(\"hello world)\u001b[0m\n\u001b[1;37m                       ^\u001b[0m\n\u001b[1;31mSyntaxError\u001b[0m\u001b[1;31m:\u001b[0m EOL while scanning string literal\n"
     ]
    }
   ],
   "source": [
    "# syntax error\n",
    "print(\"hello world)\n",
    "# syntax errors must be fixed."
   ]
  },
  {
   "cell_type": "raw",
   "id": "679fe2e6",
   "metadata": {},
   "source": [
    "# runtime error\n",
    "while user entering the input, he may enter some invalid input which is runtime error.\n",
    "we need to write some code additionally to detect these errors.\n",
    "we will write code which will handle the errors and give message to user to type correctly.-> Error handling"
   ]
  },
  {
   "cell_type": "code",
   "execution_count": 7,
   "id": "aeadcea9",
   "metadata": {},
   "outputs": [
    {
     "name": "stdout",
     "output_type": "stream",
     "text": [
      "india\n"
     ]
    },
    {
     "ename": "ValueError",
     "evalue": "invalid literal for int() with base 10: 'india'",
     "output_type": "error",
     "traceback": [
      "\u001b[1;31m---------------------------------------------------------------------------\u001b[0m",
      "\u001b[1;31mValueError\u001b[0m                                Traceback (most recent call last)",
      "\u001b[1;32m~\\AppData\\Local\\Temp\\ipykernel_5724\\926910084.py\u001b[0m in \u001b[0;36m<module>\u001b[1;34m\u001b[0m\n\u001b[1;32m----> 1\u001b[1;33m \u001b[0mx\u001b[0m\u001b[1;33m=\u001b[0m\u001b[0mint\u001b[0m\u001b[1;33m(\u001b[0m\u001b[0minput\u001b[0m\u001b[1;33m(\u001b[0m\u001b[1;33m)\u001b[0m\u001b[1;33m)\u001b[0m\u001b[1;33m\u001b[0m\u001b[1;33m\u001b[0m\u001b[0m\n\u001b[0m\u001b[0;32m      2\u001b[0m \u001b[0mprint\u001b[0m\u001b[1;33m(\u001b[0m\u001b[0mx\u001b[0m\u001b[1;33m)\u001b[0m\u001b[1;33m\u001b[0m\u001b[1;33m\u001b[0m\u001b[0m\n",
      "\u001b[1;31mValueError\u001b[0m: invalid literal for int() with base 10: 'india'"
     ]
    }
   ],
   "source": [
    "# ValueError: Entering the invalid input here.\n",
    "# strings such as alphabets cannot be converted to the integers.\n",
    "x=int(input())\n",
    "print(x)"
   ]
  },
  {
   "cell_type": "raw",
   "id": "02fce9e6",
   "metadata": {},
   "source": [
    "# try and except\n",
    "when code is trying to run and if any exception occurs then we need to use these keywords here."
   ]
  },
  {
   "cell_type": "code",
   "execution_count": 9,
   "id": "93ee0252",
   "metadata": {},
   "outputs": [
    {
     "name": "stdout",
     "output_type": "stream",
     "text": [
      "unit\n",
      "Please enter the integer only:\n"
     ]
    }
   ],
   "source": [
    "try:\n",
    "    x=int(input())\n",
    "    print(x)\n",
    "except ValueError:\n",
    "    # what we want to do in an exceptional case when an error occurs in the program\n",
    "    # we need to give the appropriate error messages so user can handle them correctly.\n",
    "    print(\"Please enter the integer only:\")\n",
    "    "
   ]
  },
  {
   "cell_type": "code",
   "execution_count": 11,
   "id": "15510b35",
   "metadata": {},
   "outputs": [
    {
     "ename": "SyntaxError",
     "evalue": "EOL while scanning string literal (3664527220.py, line 3)",
     "output_type": "error",
     "traceback": [
      "\u001b[1;36m  File \u001b[1;32m\"C:\\Users\\Phanindra Reddy\\AppData\\Local\\Temp\\ipykernel_5724\\3664527220.py\"\u001b[1;36m, line \u001b[1;32m3\u001b[0m\n\u001b[1;33m    print(\"Hello world)\u001b[0m\n\u001b[1;37m                       ^\u001b[0m\n\u001b[1;31mSyntaxError\u001b[0m\u001b[1;31m:\u001b[0m EOL while scanning string literal\n"
     ]
    }
   ],
   "source": [
    "# syntax errors must be fixed. there is no way to raise the exception as like valueError here.\n",
    "try:\n",
    "    print(\"Hello world)\n",
    "except SyntaxError:\n",
    "          print(\"Please check the syntax\")"
   ]
  },
  {
   "cell_type": "code",
   "execution_count": 12,
   "id": "51f07766",
   "metadata": {},
   "outputs": [
    {
     "name": "stdout",
     "output_type": "stream",
     "text": [
      "cat\n",
      "Please check the syntax\n"
     ]
    },
    {
     "ename": "NameError",
     "evalue": "name 'x' is not defined",
     "output_type": "error",
     "traceback": [
      "\u001b[1;31m---------------------------------------------------------------------------\u001b[0m",
      "\u001b[1;31mNameError\u001b[0m                                 Traceback (most recent call last)",
      "\u001b[1;32m~\\AppData\\Local\\Temp\\ipykernel_5724\\3285664937.py\u001b[0m in \u001b[0;36m<module>\u001b[1;34m\u001b[0m\n\u001b[0;32m      4\u001b[0m \u001b[1;32mexcept\u001b[0m \u001b[0mValueError\u001b[0m\u001b[1;33m:\u001b[0m\u001b[1;33m\u001b[0m\u001b[1;33m\u001b[0m\u001b[0m\n\u001b[0;32m      5\u001b[0m     \u001b[0mprint\u001b[0m\u001b[1;33m(\u001b[0m\u001b[1;34m\"Please check the syntax\"\u001b[0m\u001b[1;33m)\u001b[0m\u001b[1;33m\u001b[0m\u001b[1;33m\u001b[0m\u001b[0m\n\u001b[1;32m----> 6\u001b[1;33m \u001b[0mprint\u001b[0m\u001b[1;33m(\u001b[0m\u001b[0mx\u001b[0m\u001b[1;33m)\u001b[0m\u001b[1;33m\u001b[0m\u001b[1;33m\u001b[0m\u001b[0m\n\u001b[0m",
      "\u001b[1;31mNameError\u001b[0m: name 'x' is not defined"
     ]
    }
   ],
   "source": [
    "# we will try to observe little bit deep.\n",
    "try:\n",
    "    x=int(input())\n",
    "except ValueError:\n",
    "    print(\"Please check the syntax\")\n",
    "print(x)"
   ]
  },
  {
   "cell_type": "raw",
   "id": "c13f1abb",
   "metadata": {},
   "source": [
    "# NameError: name 'x' is not defined\n",
    "\n",
    "1. Why we got this error?\n",
    "\n",
    "Ans-> Here it is not about the scope such as that x is belongs to the try block scope only.\n",
    "\n",
    "The main observation is, when we are trying to run the try block the error occurs in the right side part i.e, int(input()) and the exception has occured here . so the value entered have not been assigned to the x.\n",
    "so x is not defined .\n",
    "\n",
    "suppose if x is given integer then the value is getting printed here. if it is about the scope then it must give error even for the correct input also. since wrong input is given and x value haven't assigned. so it given a NameError."
   ]
  },
  {
   "cell_type": "code",
   "execution_count": 14,
   "id": "595b237f",
   "metadata": {},
   "outputs": [
    {
     "name": "stdout",
     "output_type": "stream",
     "text": [
      "87\n",
      "87\n"
     ]
    }
   ],
   "source": [
    "try:\n",
    "    x=int(input())\n",
    "except ValueError:\n",
    "    print(\"Please check the syntax\")\n",
    "print(x)"
   ]
  },
  {
   "cell_type": "code",
   "execution_count": 15,
   "id": "5e74ec20",
   "metadata": {},
   "outputs": [
    {
     "name": "stdout",
     "output_type": "stream",
     "text": [
      "cat\n",
      "Please check the syntax\n"
     ]
    }
   ],
   "source": [
    "# the above problem can be solved by using else block here.\n",
    "# else part is realted to try not the except block.\n",
    "try:\n",
    "    x=int(input())\n",
    "except ValueError: # if anything goes wrong then do this. \n",
    "    print(\"Please check the syntax\")\n",
    "else: # if nothing goes wrong then do this \n",
    "    print(x) # now no NameError occurs here.\n",
    "    # the else part will be executed only if u try and succeeded in the code."
   ]
  },
  {
   "cell_type": "raw",
   "id": "2c70d02b",
   "metadata": {},
   "source": [
    "# here it should ask the user to enter the input again if there is any error occurs or if the invalid input is given.\n",
    "# above program is quitting very early without asking the user to enter the input again.\n",
    "# we already know that we need to use while loop if we want to ask user continously to enter the valid input.    "
   ]
  },
  {
   "cell_type": "code",
   "execution_count": 1,
   "id": "7b7e5fc4",
   "metadata": {},
   "outputs": [
    {
     "name": "stdout",
     "output_type": "stream",
     "text": [
      "india\n",
      "Entered invalid input.Please try again\n",
      "max\n",
      "Entered invalid input.Please try again\n",
      "hello\n",
      "Entered invalid input.Please try again\n",
      "raja\n",
      "Entered invalid input.Please try again\n",
      "10\n",
      "10\n"
     ]
    }
   ],
   "source": [
    "while True:\n",
    "    try:\n",
    "        x=int(input())\n",
    "    except ValueError: # if anything goes wrong then do this. \n",
    "        print(\"Entered invalid input.Please try again\")\n",
    "    else:\n",
    "        break\n",
    "print(x) "
   ]
  },
  {
   "cell_type": "code",
   "execution_count": 2,
   "id": "895d329f",
   "metadata": {},
   "outputs": [
    {
     "name": "stdout",
     "output_type": "stream",
     "text": [
      "19\n",
      "19\n"
     ]
    }
   ],
   "source": [
    "while True:\n",
    "    try:\n",
    "        x=int(input())\n",
    "    except ValueError: # if anything goes wrong then do this. \n",
    "        print(\"Entered invalid input.Please try again\")\n",
    "    else:\n",
    "        break # once the valid input is given,this will break out of the for loop.\n",
    "print(x) "
   ]
  },
  {
   "cell_type": "code",
   "execution_count": 3,
   "id": "05cc5d70",
   "metadata": {},
   "outputs": [
    {
     "name": "stdout",
     "output_type": "stream",
     "text": [
      "78\n",
      "78\n"
     ]
    }
   ],
   "source": [
    "while True:\n",
    "    try:\n",
    "        x=int(input())\n",
    "    except ValueError: # if anything goes wrong then do this. \n",
    "        print(\"Entered invalid input.Please try again\")\n",
    "    else:\n",
    "        print(x)\n",
    "        break # once the valid input is given,this will break out of the for loop.\n",
    "# if we don't give break here,the loop will keep on continuing here asking the user to enter again even if valid input is given."
   ]
  },
  {
   "cell_type": "code",
   "execution_count": null,
   "id": "c0d6e022",
   "metadata": {},
   "outputs": [
    {
     "name": "stdout",
     "output_type": "stream",
     "text": [
      "ui\n",
      "Entered invalid input.Please try again\n",
      "\n",
      "Entered invalid input.Please try again\n",
      "\n",
      "Entered invalid input.Please try again\n",
      "ing\n",
      "Entered invalid input.Please try again\n",
      "10\n",
      "10\n",
      "76\n",
      "76\n",
      "76\n",
      "76\n",
      "34\n",
      "34\n"
     ]
    }
   ],
   "source": [
    "while True:\n",
    "    try:\n",
    "        x=int(input())\n",
    "    except ValueError: # if anything goes wrong then do this. \n",
    "        print(\"Entered invalid input.Please try again\")\n",
    "    else:\n",
    "        print(x)"
   ]
  },
  {
   "cell_type": "code",
   "execution_count": 1,
   "id": "da17cc8a",
   "metadata": {},
   "outputs": [
    {
     "name": "stdout",
     "output_type": "stream",
     "text": [
      "uy\n",
      "Entered invalid input.Please try again\n",
      "56\n",
      "56\n"
     ]
    }
   ],
   "source": [
    "while True:\n",
    "    try:\n",
    "        x=int(input())\n",
    "        break # we can also give break here. \n",
    "    except ValueError: # if anything goes wrong then do this. \n",
    "        print(\"Entered invalid input.Please try again\")\n",
    "print(x)"
   ]
  },
  {
   "cell_type": "code",
   "execution_count": 3,
   "id": "daecab90",
   "metadata": {},
   "outputs": [
    {
     "name": "stdout",
     "output_type": "stream",
     "text": [
      "cat\n",
      "Entered invalid input.Please try again\n",
      "in\n",
      "Entered invalid input.Please try again\n",
      "89\n",
      "89\n"
     ]
    }
   ],
   "source": [
    "def get_int():\n",
    "    while True:\n",
    "        try:\n",
    "            return int(input()) # we can give simply the return here without using break or the else part.\n",
    "        except ValueError: # if anything goes wrong then do this. \n",
    "            print(\"Entered invalid input.Please try again\")\n",
    "x=get_int()\n",
    "print(x)"
   ]
  },
  {
   "cell_type": "code",
   "execution_count": 4,
   "id": "4bed26b2",
   "metadata": {},
   "outputs": [
    {
     "name": "stdout",
     "output_type": "stream",
     "text": [
      "ct\n",
      "ft\n",
      "jgf\n",
      "jhg\n",
      "65\n",
      "65\n"
     ]
    }
   ],
   "source": [
    "# sometimes we don't want any error message to show here and we want to ignore it.\n",
    "# we can use pass keyword in except statement.\n",
    "def get_int():\n",
    "    while True:\n",
    "        try:\n",
    "            return int(input()) \n",
    "        except ValueError: \n",
    "            pass\n",
    "x=get_int()\n",
    "print(x)"
   ]
  },
  {
   "cell_type": "markdown",
   "id": "48cfc45d",
   "metadata": {},
   "source": [
    "# lec 5\n",
    "## Debugging"
   ]
  },
  {
   "cell_type": "code",
   "execution_count": 5,
   "id": "7d145be8",
   "metadata": {},
   "outputs": [
    {
     "name": "stdout",
     "output_type": "stream",
     "text": [
      "4\n",
      "\n",
      "*\n",
      "**\n",
      "***\n"
     ]
    }
   ],
   "source": [
    "def main():\n",
    "    height=int(input())\n",
    "    pyramid(height)\n",
    "def pyramid(n):\n",
    "    for i in range(n):\n",
    "        print(\"*\"*i)\n",
    "if __name__==main():\n",
    "    main()"
   ]
  },
  {
   "cell_type": "code",
   "execution_count": 6,
   "id": "b04cb6b8",
   "metadata": {},
   "outputs": [
    {
     "name": "stdout",
     "output_type": "stream",
     "text": [
      "5\n",
      "0\n",
      "1*\n",
      "2**\n",
      "3***\n",
      "4****\n"
     ]
    }
   ],
   "source": [
    "# when we are trying to print the 4 levels the actual output is giving only three levels with first level as blank.\n",
    "# here we need to try to debug the code to find what is exactly going on inside the functions.\n",
    "# so we take help of print() and try to trace the i values here.\n",
    "def main():\n",
    "    height=int(input())\n",
    "    pyramid(height)\n",
    "def pyramid(n):\n",
    "    for i in range(n):\n",
    "        print(i,end=\"\")\n",
    "        print(\"*\"*i)\n",
    "if __name__==main():\n",
    "    main()"
   ]
  },
  {
   "cell_type": "code",
   "execution_count": 10,
   "id": "3e345067",
   "metadata": {},
   "outputs": [
    {
     "name": "stdout",
     "output_type": "stream",
     "text": [
      "5\n",
      "*\n",
      "**\n",
      "***\n",
      "****\n",
      "*****\n"
     ]
    }
   ],
   "source": [
    "# now we got that i starts from 0 and here we got 0 stars at the first level.\n",
    "def main():\n",
    "    height=int(input())\n",
    "    pyramid(height)\n",
    "def pyramid(n):\n",
    "    for i in range(n):\n",
    "       # print(i,end=\"\")\n",
    "        print(\"*\"*(i+1))\n",
    "if __name__==main():\n",
    "    main()"
   ]
  },
  {
   "cell_type": "code",
   "execution_count": 16,
   "id": "14a29f2d",
   "metadata": {},
   "outputs": [
    {
     "name": "stdout",
     "output_type": "stream",
     "text": [
      "5\n",
      "      *\n",
      "     **\n",
      "    ***\n",
      "   ****\n",
      "  *****\n"
     ]
    }
   ],
   "source": [
    "def main():\n",
    "    height=int(input())\n",
    "    pyramid(height)\n",
    "def pyramid(n):\n",
    "    for i in range(n):\n",
    "        print(\" \"*(n-i+1)+\"*\"*(i+1))\n",
    "if __name__==main():\n",
    "    main()"
   ]
  },
  {
   "cell_type": "raw",
   "id": "fdae53e2",
   "metadata": {},
   "source": [
    "# debugging here is not possible.\n",
    "# we need to use the editor . try to use online debugger .\n",
    "# keep focus on the procedure and try to trace the variables very very neatly.\n",
    "\n",
    "\n",
    "https://www.onlinegdb.com/online_python_debugger"
   ]
  },
  {
   "cell_type": "markdown",
   "id": "e74c3b2b",
   "metadata": {},
   "source": [
    "# lec 5\n",
    "## Libraries"
   ]
  },
  {
   "cell_type": "markdown",
   "id": "e2111c8c",
   "metadata": {},
   "source": [
    "1. Libraries are generally files of code that other people have written that you can use in your own programs or a library's code that you have written so that you can use in your own programs.\n",
    "2. Libraries have the ability to share code with others,share code across your own projects.\n",
    "3. A module in python is a library that typically has one or more functions or other features built into it.\n",
    "4. The main purpose of a module is to encourage the reusability of the code."
   ]
  },
  {
   "cell_type": "raw",
   "id": "66ca0f1c",
   "metadata": {},
   "source": [
    "# in random.py file, there is probably one or more functions that you yourself can use in order to do things randomly.\n",
    "# the import keyword in python allows you to import the contents of the functions from some module in python"
   ]
  },
  {
   "cell_type": "raw",
   "id": "35ef66ec",
   "metadata": {},
   "source": [
    "import random\n",
    "random.choice([seq]) # sequence generally means a list or list like something."
   ]
  },
  {
   "cell_type": "code",
   "execution_count": 24,
   "id": "363cc22c",
   "metadata": {},
   "outputs": [
    {
     "data": {
      "text/plain": [
       "'tails'"
      ]
     },
     "execution_count": 24,
     "metadata": {},
     "output_type": "execute_result"
    }
   ],
   "source": [
    "import random # when you import this module, this will give access to all of the functions in that specific module.\n",
    "random.choice([\"heads\",\"tails\"]) # this will select randomly any of the item in the list."
   ]
  },
  {
   "cell_type": "raw",
   "id": "0b3172bc",
   "metadata": {},
   "source": [
    "from is a keyword in python that you can use when importing functions from a moudule.\n",
    "# everytime we need to use random.choice,random.randint ,,,, but there is no need to use random. every time."
   ]
  },
  {
   "cell_type": "code",
   "execution_count": 25,
   "id": "cbc6b57e",
   "metadata": {},
   "outputs": [
    {
     "data": {
      "text/plain": [
       "'tails'"
      ]
     },
     "execution_count": 25,
     "metadata": {},
     "output_type": "execute_result"
    }
   ],
   "source": [
    "from random import choice # so we no need to longer specify the random. every time\n",
    "choice([\"heads\",\"tails\"])"
   ]
  },
  {
   "cell_type": "raw",
   "id": "749e88c2",
   "metadata": {},
   "source": [
    "# we will try to use maximum first way since there is chance is chance of creating our own functions which also have the name of the functions that random module contains.\n",
    "# suppose if we create a own function called choice and we have the choice() from random module,there may be confusion which one to use now.\n",
    "# so we need to give random.choice so that there won't be any confusion between the choice functions."
   ]
  },
  {
   "cell_type": "code",
   "execution_count": 30,
   "id": "e9bce46e",
   "metadata": {},
   "outputs": [
    {
     "data": {
      "text/plain": [
       "9"
      ]
     },
     "execution_count": 30,
     "metadata": {},
     "output_type": "execute_result"
    }
   ],
   "source": [
    "random.randint(1,19) # included  1 and 19."
   ]
  },
  {
   "cell_type": "code",
   "execution_count": 35,
   "id": "9680c0d8",
   "metadata": {},
   "outputs": [
    {
     "name": "stdout",
     "output_type": "stream",
     "text": [
      "[7, 1, 4, 2, 5, 7, 3, 4, 2, 6, 1, 3, 6, 5, 1]\n"
     ]
    }
   ],
   "source": [
    "# shuffle takes a list and shuffles all the items and gives the result.\n",
    "x=[1,2,3,4,5,6,7,3,2,1,1,4,5,6,7]\n",
    "random.shuffle(x) # this will shuffles the argument in place \n",
    "# it doesn't returns to you a value. it just shuffles the  list it's given itself.\n",
    "print(x)"
   ]
  },
  {
   "cell_type": "code",
   "execution_count": 36,
   "id": "f6aa1dec",
   "metadata": {},
   "outputs": [
    {
     "data": {
      "text/plain": [
       "5"
      ]
     },
     "execution_count": 36,
     "metadata": {},
     "output_type": "execute_result"
    }
   ],
   "source": [
    "# python also comes with the statistics library used to calculate the mean,median,mode,standard deviation and variance.\n",
    "import statistics\n",
    "statistics.mean([1,2,3,4,5,6,7,8,9])"
   ]
  },
  {
   "cell_type": "markdown",
   "id": "9a31e4b3",
   "metadata": {},
   "source": [
    "##### command line arguments"
   ]
  },
  {
   "cell_type": "code",
   "execution_count": 45,
   "id": "ccd877ca",
   "metadata": {},
   "outputs": [
    {
     "name": "stdout",
     "output_type": "stream",
     "text": [
      "hello, my name is  -f\n"
     ]
    }
   ],
   "source": [
    "import sys\n",
    "print(\"hello, my name is \",sys.argv[1]) # here -f simply represents the filename."
   ]
  },
  {
   "cell_type": "raw",
   "id": "17d863d3",
   "metadata": {},
   "source": [
    "# to understand this concept much more neatly,let us watch some more videos from youtube and learn this.\n",
    "1. Command line arguments by Sundeep saradhi kanthety.\n",
    "2. Durga software solutions"
   ]
  },
  {
   "cell_type": "markdown",
   "id": "42619a0b",
   "metadata": {},
   "source": [
    "1. Till now we are giving the input by using the input function.\n",
    "2. Suppose if u have a input() with many inputs to be entered by the user,then it is very tedious task to give each input one by one at a time.\n",
    "3. Instead we can give all inputs at a time in the command line which are called as command line arguments.\n",
    "4. There is one more way to accept the inputs other than input().\n",
    "5. Inputs will be passed to the program as arguments from the command prompt.\n",
    "6. we need to use the sys module to pass the command line arguments.\n",
    "7. All the arguments which are passing to the command prompt will form a list as argv.[argument vector] saved in argv.\n",
    "8. Those args in the list will be accessed by using sys.argv[]\n",
    "9. Here we also we need to do perform the type casting since they are considered as strings.\n"
   ]
  },
  {
   "cell_type": "raw",
   "id": "66635d71",
   "metadata": {},
   "source": [
    "sys.argv(list)\n",
    "argv is a variable(list variable) which is present in the sys module.\n",
    "Elements of argv can be accessed using INDEX which starts from 0.\n",
    "In  sys.argv[0]--> always the filename will be stored."
   ]
  },
  {
   "cell_type": "code",
   "execution_count": 1,
   "id": "d53b26b2",
   "metadata": {},
   "outputs": [
    {
     "name": "stdout",
     "output_type": "stream",
     "text": [
      "['C:\\\\Users\\\\Phanindra Reddy\\\\anaconda3\\\\lib\\\\site-packages\\\\ipykernel_launcher.py', '-f', 'C:\\\\Users\\\\Phanindra Reddy\\\\AppData\\\\Roaming\\\\jupyter\\\\runtime\\\\kernel-c561bef4-71cd-481f-be00-7db20f980e40.json']\n",
      "3\n"
     ]
    }
   ],
   "source": [
    "import sys\n",
    "print(sys.argv)\n",
    "print(len(sys.argv))"
   ]
  },
  {
   "cell_type": "raw",
   "id": "b04055b9",
   "metadata": {},
   "source": [
    "write program\n",
    "save with .py extension\n",
    "open cmd\n",
    "change the path to where the program is being saved.\n",
    "run as py filename.py arg1 arg2 arg3 arg4"
   ]
  },
  {
   "cell_type": "raw",
   "id": "d1c9d4e5",
   "metadata": {},
   "source": [
    "open idle\n",
    "create new file."
   ]
  },
  {
   "cell_type": "raw",
   "id": "284cba99",
   "metadata": {},
   "source": [
    "import sys\n",
    "print(sys.argv)\n",
    "print(sys.argv[0])\n",
    "print(len(sys.argv))\n",
    "\n",
    "# without using the input() we can use this command line arguments.\n",
    "C:\\Users\\Phanindra Reddy\\AppData\\Local\\Programs\\Python\\Python39>py cmd_line_argv.py 1 2 3\n",
    "['cmd_line_argv.py', '1', '2', '3']\n",
    "cmd_line_argv.py\n",
    "4"
   ]
  },
  {
   "cell_type": "raw",
   "id": "1ffbf590",
   "metadata": {},
   "source": [
    "# suppose if you want the sum of the integers which are the inputs, then we can do like this.\n",
    "import sys \n",
    "for i in range(1, len(sys.argv)): # start from 1 since 0 index have the file name.\n",
    "    sum+=int(sys.argv[i])\n",
    "print(\"result=\",sum)\n",
    "\n",
    "C:\\Users\\Phanindra Reddy\\AppData\\Local\\Programs\\Python\\Python39>py cmd_line_argv.py 1 2 3\n",
    "['cmd_line_argv.py', '1', '2', '3']\n",
    "result= 6"
   ]
  },
  {
   "cell_type": "raw",
   "id": "328a15b5",
   "metadata": {},
   "source": [
    "# sys.argv returns the list object containing command line arguments.\n",
    "# if u know exactly the number of inputs to be passed to the program,then instead of using input(),we can use the cmd line arguments.\n"
   ]
  },
  {
   "cell_type": "code",
   "execution_count": 3,
   "id": "c0cba00f",
   "metadata": {},
   "outputs": [
    {
     "data": {
      "text/plain": [
       "list"
      ]
     },
     "execution_count": 3,
     "metadata": {},
     "output_type": "execute_result"
    }
   ],
   "source": [
    "from sys import argv\n",
    "type(argv)"
   ]
  },
  {
   "cell_type": "raw",
   "id": "329b2eaa",
   "metadata": {},
   "source": [
    "from sys import argv\n",
    "ar=argv[1:]\n",
    "sum=0\n",
    "for i in ar:\n",
    "    sum+=int(i)\n",
    "print(\"result=\",sum)\n",
    "\n",
    "\n",
    "C:\\Users\\Phanindra Reddy\\AppData\\Local\\Programs\\Python\\Python39>py cmd_line_argv.py 1 2 3 4 5 6\n",
    "result= 21"
   ]
  },
  {
   "cell_type": "raw",
   "id": "63195fd4",
   "metadata": {},
   "source": [
    "# if u don't pass any arguments here we will get the result as 0 only.\n",
    "C:\\Users\\Phanindra Reddy\\AppData\\Local\\Programs\\Python\\Python39>py cmd_line_argv.py\n",
    "result= 0"
   ]
  },
  {
   "cell_type": "markdown",
   "id": "7252023e",
   "metadata": {},
   "source": [
    "#### when these command line arguments are useful?"
   ]
  },
  {
   "cell_type": "raw",
   "id": "82e658d3",
   "metadata": {},
   "source": [
    "suppose we want to create a file merger application which takes two files data and merge it to the third file named output.txt\n",
    "\n",
    "f1=open(\"file1.txt\")\n",
    "f2=open(\"file2.txt\")\n",
    "f3=open(\"output.txt\",\"w\")\n",
    "for x in f1:\n",
    "    f3.write(x)\n",
    "for x in f2:\n",
    "    f3.write(x)\n",
    "    \n",
    "# when u observe neatly the files names are fixed here which means always the data what u want to merge should present only in the files which are file1.txt and file2.txt \n",
    "# simply we are hard coding the file names here\n",
    "# we don't know the file names always should be the file1 and file2.\n",
    "# so we pass the name of files which we want through the command line arguments whatever we want."
   ]
  },
  {
   "cell_type": "raw",
   "id": "d147a416",
   "metadata": {},
   "source": [
    "f1=open(argv[1]) # first file name is passed here\n",
    "f2=open(argv[2]) # second filename is passed here.\n",
    "f3=open(argv[3],\"w\")\n",
    "for x in f1:\n",
    "    f3.write(x)\n",
    "for x in f2:\n",
    "    f3.write(x)\n",
    "    \n",
    "    \n",
    " >>> py test.py file1.txt file2.txt output.txt"
   ]
  },
  {
   "cell_type": "markdown",
   "id": "56697d77",
   "metadata": {},
   "source": [
    "1. In command line the space is the separator.\n",
    "2. Suppose, if u want to enter the full name as argument then we need to mention it in the \"Phanindra Reddy\""
   ]
  },
  {
   "cell_type": "raw",
   "id": "fb9f8c9f",
   "metadata": {},
   "source": [
    "from sys import argv\n",
    "print(argv[1])\n",
    "\n",
    "C:\\Users\\Phanindra Reddy\\AppData\\Local\\Programs\\Python\\Python39>py cmd_line_argv.py phanindra reddy\n",
    "phanindra\n",
    "\n",
    "\n",
    "C:\\Users\\Phanindra Reddy\\AppData\\Local\\Programs\\Python\\Python39>py cmd_line_argv.py \"phanindra reddy\"\n",
    "phanindra reddy"
   ]
  },
  {
   "cell_type": "raw",
   "id": "9770ab10",
   "metadata": {},
   "source": [
    "# if we use the single line quotes then it is considered as two arguments.\n",
    "\" \" is must in command line arguments if space is present in the argument.\n",
    "\n",
    "C:\\Users\\Phanindra Reddy\\AppData\\Local\\Programs\\Python\\Python39>py cmd_line_argv.py 'phanindra reddy'\n",
    "'phanindra"
   ]
  },
  {
   "cell_type": "raw",
   "id": "853b0bb3",
   "metadata": {},
   "source": [
    "# okay cool.Till now we learned very good concept from both channels nicely.\n",
    "# let's come back to our cs50 lecture continuation from the command line arguments."
   ]
  },
  {
   "cell_type": "markdown",
   "id": "3ac42c4e",
   "metadata": {},
   "source": [
    "##### argv is a variable present in the sys module and stores all the arguments whatever passed at the command prompt in the form of list.\n"
   ]
  },
  {
   "cell_type": "raw",
   "id": "b4a9675c",
   "metadata": {},
   "source": [
    "# let us see an error for the command line argument.\n",
    "# how we will try to handle this error.\n",
    "\n",
    "\n",
    "from sys import argv\n",
    "print(argv[1])\n",
    "\n",
    "\n",
    "C:\\Users\\Phanindra Reddy\\AppData\\Local\\Programs\\Python\\Python39>py cmd_line_argv.py --> here we are not passing any argument                                                                                               except filename.\n",
    "Traceback (most recent call last):\n",
    "  File \"C:\\Users\\Phanindra Reddy\\AppData\\Local\\Programs\\Python\\Python39\\cmd_line_argv.py\", line 2, in <module>\n",
    "    print(argv[1])\n",
    "IndexError: list index out of range\n"
   ]
  },
  {
   "cell_type": "raw",
   "id": "6b79473e",
   "metadata": {},
   "source": [
    "# we will use exception handling concept here.\n",
    "# this is just an example here for the exceptions.\n",
    "import sys\n",
    "from sys import argv\n",
    "if len(argv)>2:\n",
    "    sys.exit()\n",
    "elif len(argv)<2:\n",
    "    sys.exit()\n",
    "else:\n",
    "    print(sys.argv[1])\n",
    "\n",
    "\n",
    "C:\\Users\\Phanindra Reddy\\AppData\\Local\\Programs\\Python\\Python39>py cmd_line_argv.py\n",
    "\n",
    "C:\\Users\\Phanindra Reddy\\AppData\\Local\\Programs\\Python\\Python39>py cmd_line_argv.py  10\n",
    "10\n"
   ]
  },
  {
   "cell_type": "raw",
   "id": "f375e792",
   "metadata": {},
   "source": [
    "# we want exactly one argument name here.\n",
    "import sys\n",
    "from sys import argv\n",
    "if len(argv)>2: # if more than one name is given\n",
    "    print(\"Too many arguments\")\n",
    "elif len(argv)<2:\n",
    "    print(\"too few arguments\")\n",
    "else:\n",
    "    print(sys.argv[1])\n",
    "\n",
    "C:\\Users\\Phanindra Reddy\\AppData\\Local\\Programs\\Python\\Python39>py cmd_line_argv.py  10 20 30\n",
    "Too many arguments\n",
    "\n",
    "\n",
    "C:\\Users\\Phanindra Reddy\\AppData\\Local\\Programs\\Python\\Python39>py cmd_line_argv.py\n",
    "too few arguments"
   ]
  },
  {
   "cell_type": "raw",
   "id": "2ef611c9",
   "metadata": {},
   "source": [
    "import sys\n",
    "from sys import argv\n",
    "\n",
    "try:\n",
    "    print(sys.argv[1])\n",
    "except IndexError:\n",
    "    print(\"Too few arguments\")\n",
    "    \n",
    "C:\\Users\\Phanindra Reddy\\AppData\\Local\\Programs\\Python\\Python39>py cmd_line_argv.py\n",
    "Too few arguments\n",
    "\n",
    "C:\\Users\\Phanindra Reddy\\AppData\\Local\\Programs\\Python\\Python39>py cmd_line_argv.py 1 2 3 4\n",
    "1"
   ]
  },
  {
   "cell_type": "code",
   "execution_count": null,
   "id": "0bc64ab3",
   "metadata": {},
   "outputs": [],
   "source": [
    "import sys\n",
    "from sys import argv\n",
    "if len(argv)>2: # if more than one name is given\n",
    "    print(\"Too many arguments\")\n",
    "    sys.exit()\n",
    "elif len(argv)<2:\n",
    "    print(\"too few arguments\")\n",
    "    sys.exit()\n",
    "print(sys.argv[1]) # if print is not in else: then we need to use sys.exit() so that no error will occur here."
   ]
  },
  {
   "cell_type": "raw",
   "id": "bbbf1dcd",
   "metadata": {},
   "source": [
    "import sys\n",
    "from sys import argv\n",
    "if len(argv)>2: # if more than one name is given\n",
    "    print(\"Too many arguments\")\n",
    "elif len(argv)<2:\n",
    "    print(\"too few arguments\")\n",
    "print(sys.argv[1])\n",
    "\n",
    "\n",
    "\n",
    "C:\\Users\\Phanindra Reddy\\AppData\\Local\\Programs\\Python\\Python39>py cmd_line_argv.py\n",
    "too few arguments\n",
    "Traceback (most recent call last):\n",
    "  File \"C:\\Users\\Phanindra Reddy\\AppData\\Local\\Programs\\Python\\Python39\\cmd_line_argv.py\", line 7, in <module>\n",
    "    print(sys.argv[1])\n",
    "IndexError: list index out of range\n",
    "\n",
    "\n",
    "--> we need to exit from the program once the exception(too few arguments) comes here."
   ]
  },
  {
   "cell_type": "raw",
   "id": "a9b97489",
   "metadata": {},
   "source": [
    "# so only here we used the exit() to exit out of the program.\n",
    "import sys\n",
    "from sys import argv\n",
    "if len(argv)>2: # if more than one name is given\n",
    "    sys.exit(\"Too many arguments\")\n",
    "elif len(argv)<2:\n",
    "    sys.exit(\"too few arguments\")\n",
    "print(sys.argv[1])"
   ]
  },
  {
   "cell_type": "markdown",
   "id": "fbc50bc0",
   "metadata": {},
   "source": [
    "### Packages\n",
    "1. These are third party libraries written in python.\n",
    "2. pip install package_name\n",
    "3. These packages are available in PyPI (Python Package Index)."
   ]
  },
  {
   "cell_type": "raw",
   "id": "b645ce3e",
   "metadata": {},
   "source": [
    "Pip is a package-management system written in Python and is used to install and manage software packages. The Python Software Foundation recommends using pip for installing Python applications and its dependencies during deployment. Pip connects to an online repository of public packages, called the Python Package Index. Pip can be configured to connect to other package repositories (local or remote), provided that they comply to Python Enhancement Proposal."
   ]
  },
  {
   "cell_type": "markdown",
   "id": "82eccdc3",
   "metadata": {},
   "source": [
    "### cowsay\n",
    "1. Install this package\n",
    "2. Using this package, a cow will appear and it says whatever u want in visual format.\n",
    "3. pip install cowsay\n",
    "4. A package contains all the files you need for a module. \n",
    "5. Modules are Python code libraries you can include in your project."
   ]
  },
  {
   "cell_type": "code",
   "execution_count": 1,
   "id": "ed111b2a",
   "metadata": {},
   "outputs": [
    {
     "name": "stdout",
     "output_type": "stream",
     "text": [
      "  ___________\n",
      "| Hello world |\n",
      "  ===========\n",
      "           \\\n",
      "            \\\n",
      "              ^__^\n",
      "              (oo)\\_______\n",
      "              (__)\\       )\\/\\\n",
      "                  ||----w |\n",
      "                  ||     ||\n"
     ]
    }
   ],
   "source": [
    "import cowsay\n",
    "cowsay.cow(\"Hello world\")"
   ]
  },
  {
   "cell_type": "code",
   "execution_count": 2,
   "id": "811324bd",
   "metadata": {},
   "outputs": [
    {
     "name": "stdout",
     "output_type": "stream",
     "text": [
      "  ___________\n",
      "| Hello world |\n",
      "  ===========\n",
      "                  \\\n",
      "                   \\\n",
      "                    \\\n",
      "                     \\\n",
      "                        .-=-==--==--.\n",
      "                  ..-==\"  ,'o`)      `.\n",
      "                ,'         `\"'         \\\n",
      "               :  (                     `.__...._\n",
      "               |                  )    /         `-=-.\n",
      "               :       ,vv.-._   /    /               `---==-._\n",
      "                \\/\\/\\/VV ^ d88`;'    /                         `.\n",
      "                    ``  ^/d88P!'    /             ,              `._\n",
      "                       ^/    !'   ,.      ,      /                  \"-,,__,,--'\"\"\"\"-.\n",
      "                      ^/    !'  ,'  \\ . .(      (         _           )  ) ) ) ))_,-.\\\n",
      "                     ^(__ ,!',\"'   ;:+.:%:a.     \\:.. . ,'          )  )  ) ) ,\"'    '\n",
      "                     ',,,'','     /o:::\":%:%a.    \\:.:.:         .    )  ) _,'\n",
      "                      \"\"\"'       ;':::'' `+%%%a._  \\%:%|         ;.). _,-\"\"\n",
      "                             ,-='_.-'      ``:%::)  )%:|        /:._,\"\n",
      "                            (/(/\"           ,\" ,'_,'%%%:       (_,'\n",
      "                                           (  (//(`.___;        \\\n",
      "                                            \\     \\    `         `\n",
      "                                             `.    `.   `.        :\n",
      "                                               \\. . .\\    : . . . :\n",
      "                                                \\. . .:    `.. . .:\n",
      "                                                 `..:.:\\     \\:...\\\n",
      "                                                  ;:.:.;      ::...:\n",
      "                                                  ):%::       :::::;\n",
      "                                              __,::%:(        :::::\n",
      "                                           ,;:%%%%%%%:        ;:%::\n",
      "                                             ;,--\"\"-.`\\  ,=--':%:%:\\\n",
      "                                            /\"       \"| /-\".:%%%%%%%\\\n",
      "                                                            ;,-\"'`)%%)\n",
      "                                                           /\"      \"|\n"
     ]
    }
   ],
   "source": [
    "cowsay.trex(\"Hello world\")"
   ]
  },
  {
   "cell_type": "markdown",
   "id": "ef7d3a2b",
   "metadata": {},
   "source": [
    "### API's"
   ]
  },
  {
   "cell_type": "raw",
   "id": "e1b81dec",
   "metadata": {},
   "source": [
    "# request library allows you to make request with web requests.\n",
    "# we can retreive the url's\n",
    "# itune's api. we will listen the songs here .\n",
    "# https://itunes.apple.com/searh?entity=song&limit=1&term=weezer\n",
    "# the above url gives a text file.JSON-java script object notation.\n",
    "# api's are mechanism where one can access the data on some other server and can integrate into our own program."
   ]
  },
  {
   "cell_type": "code",
   "execution_count": 5,
   "id": "51a75166",
   "metadata": {},
   "outputs": [
    {
     "name": "stdout",
     "output_type": "stream",
     "text": [
      "{'squadName': 'Super Hero Squad', 'homeTown': 'Metro City', 'formed': 2016, 'secretBase': 'Super tower', 'active': True, 'members': [{'name': 'Molecule Man', 'age': 29, 'secretIdentity': 'Dan Jukes', 'powers': ['Radiation resistance', 'Turning tiny', 'Radiation blast']}, {'name': 'Madame Uppercut', 'age': 39, 'secretIdentity': 'Jane Wilson', 'powers': ['Million tonne punch', 'Damage resistance', 'Superhuman reflexes']}, {'name': 'Eternal Flame', 'age': 1000000, 'secretIdentity': 'Unknown', 'powers': ['Immortality', 'Heat Immunity', 'Inferno', 'Teleportation', 'Interdimensional travel']}]}\n"
     ]
    }
   ],
   "source": [
    "import requests\n",
    "import sys\n",
    "#if len(sys.argv)!=2:\n",
    "    #sys.exit()\n",
    "res=requests.get(\"https://mdn.github.io/learning-area/javascript/oojs/json/superheroes.json\") # proper correct url used here.\n",
    "print(res.json())"
   ]
  },
  {
   "cell_type": "code",
   "execution_count": 4,
   "id": "1b19b16e",
   "metadata": {},
   "outputs": [
    {
     "name": "stdout",
     "output_type": "stream",
     "text": [
      "{\"squadName\": \"Super Hero Squad\", \"homeTown\": \"Metro City\", \"formed\": 2016, \"secretBase\": \"Super tower\", \"active\": true, \"members\": [{\"name\": \"Molecule Man\", \"age\": 29, \"secretIdentity\": \"Dan Jukes\", \"powers\": [\"Radiation resistance\", \"Turning tiny\", \"Radiation blast\"]}, {\"name\": \"Madame Uppercut\", \"age\": 39, \"secretIdentity\": \"Jane Wilson\", \"powers\": [\"Million tonne punch\", \"Damage resistance\", \"Superhuman reflexes\"]}, {\"name\": \"Eternal Flame\", \"age\": 1000000, \"secretIdentity\": \"Unknown\", \"powers\": [\"Immortality\", \"Heat Immunity\", \"Inferno\", \"Teleportation\", \"Interdimensional travel\"]}]}\n"
     ]
    }
   ],
   "source": [
    "# we can aslo use the json library here to manipulate the data.\n",
    "import json\n",
    "import requests\n",
    "res=requests.get(\"https://mdn.github.io/learning-area/javascript/oojs/json/superheroes.json\")\n",
    "print(json.dumps(res.json()))"
   ]
  },
  {
   "cell_type": "code",
   "execution_count": 6,
   "id": "331b1735",
   "metadata": {},
   "outputs": [
    {
     "name": "stdout",
     "output_type": "stream",
     "text": [
      "{\n",
      "  \"squadName\": \"Super Hero Squad\",\n",
      "  \"homeTown\": \"Metro City\",\n",
      "  \"formed\": 2016,\n",
      "  \"secretBase\": \"Super tower\",\n",
      "  \"active\": true,\n",
      "  \"members\": [\n",
      "    {\n",
      "      \"name\": \"Molecule Man\",\n",
      "      \"age\": 29,\n",
      "      \"secretIdentity\": \"Dan Jukes\",\n",
      "      \"powers\": [\n",
      "        \"Radiation resistance\",\n",
      "        \"Turning tiny\",\n",
      "        \"Radiation blast\"\n",
      "      ]\n",
      "    },\n",
      "    {\n",
      "      \"name\": \"Madame Uppercut\",\n",
      "      \"age\": 39,\n",
      "      \"secretIdentity\": \"Jane Wilson\",\n",
      "      \"powers\": [\n",
      "        \"Million tonne punch\",\n",
      "        \"Damage resistance\",\n",
      "        \"Superhuman reflexes\"\n",
      "      ]\n",
      "    },\n",
      "    {\n",
      "      \"name\": \"Eternal Flame\",\n",
      "      \"age\": 1000000,\n",
      "      \"secretIdentity\": \"Unknown\",\n",
      "      \"powers\": [\n",
      "        \"Immortality\",\n",
      "        \"Heat Immunity\",\n",
      "        \"Inferno\",\n",
      "        \"Teleportation\",\n",
      "        \"Interdimensional travel\"\n",
      "      ]\n",
      "    }\n",
      "  ]\n",
      "}\n"
     ]
    }
   ],
   "source": [
    "import json\n",
    "import requests\n",
    "res=requests.get(\"https://mdn.github.io/learning-area/javascript/oojs/json/superheroes.json\")\n",
    "print(json.dumps(res.json(),indent=2))"
   ]
  },
  {
   "cell_type": "raw",
   "id": "96161797",
   "metadata": {},
   "source": [
    "# we can also make our own library with our own defined functions.\n",
    "# we can import the libraray also.\n",
    "def main():\n",
    "    hello(name)\n",
    "    goodbye(name)\n",
    "def hello(name):\n",
    "    print(f\"hello ,{name}\")\n",
    "def goodbye(name):\n",
    "    print(f\"bye bye {name}\")\n",
    "if __name__==\"__main__\":\n",
    "     main()\n",
    "\n",
    "    \n",
    "--> let the above should be stored in the filename as greet.py\n",
    "--> when u try to import a package, all of the functions are present in the main function . the main() is always called no matter what when we try to import the filename as package.\n",
    "\n",
    "now we use the above .py file\n",
    "\n",
    "import sys\n",
    "from greet import hello,goodbye\n",
    "hello(\"indra\")\n",
    "\n",
    "\n",
    "--> by ruuning this we get hello, indra"
   ]
  }
 ],
 "metadata": {
  "kernelspec": {
   "display_name": "Python 3 (ipykernel)",
   "language": "python",
   "name": "python3"
  },
  "language_info": {
   "codemirror_mode": {
    "name": "ipython",
    "version": 3
   },
   "file_extension": ".py",
   "mimetype": "text/x-python",
   "name": "python",
   "nbconvert_exporter": "python",
   "pygments_lexer": "ipython3",
   "version": "3.9.13"
  }
 },
 "nbformat": 4,
 "nbformat_minor": 5
}
