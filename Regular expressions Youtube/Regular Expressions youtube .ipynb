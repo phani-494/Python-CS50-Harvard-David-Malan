{
 "cells": [
  {
   "cell_type": "markdown",
   "id": "b0e231cb",
   "metadata": {},
   "source": [
    "# Python  Regular Expressions by Durga Software"
   ]
  },
  {
   "cell_type": "markdown",
   "id": "69713226",
   "metadata": {},
   "source": [
    "1. These are used to find the pattern matching.\n",
    "2. Ex- All mobile numbers in India contains 10 digits and starts with either of  7,8,9,6.\n",
    "3. All gmails have some user name and @ ,domian name with .com   --> phanindraxyz@gmail.com\n",
    "4. These patterns can be represented by using the regular expressions.\n",
    "#### If we want to represent a group of strings according to a particular pattern,then we should go for the RE's.\n"
   ]
  },
  {
   "cell_type": "raw",
   "id": "2b171da0",
   "metadata": {},
   "source": [
    "# Language independent.(java, python)\n",
    "# In our day to day life,we will fill several forms such as Login details,creating mails,registration forms.\n",
    "# if for any field such as mail field, if we given the wrong mail without correct address,then it will throw error and gives output as invalid email.\n",
    "# in such kind of applications,these are very useful to find enetred details are valid or not.\n",
    "# to check whether the entered information is valid or not."
   ]
  },
  {
   "cell_type": "markdown",
   "id": "21723192",
   "metadata": {},
   "source": [
    "### Application areas of the RE's.\n",
    "1. Validations (mail id validations,mobile number validations)\n",
    "2. Pattern Matching Applications: In Notepad++, linux,windows .. we will try to find a particular pattern is present or not by using the ctrl+F,grep,findstr.Those features are made using the RE concepts.\n",
    "3. To develop the interpretrs,translators,assemblers... In compiler designs, these are highly useful.\n",
    " 1. Lexical Analysis  ==> scanning or Tokenization---> implemented by RE's.\n",
    " 2. Syntax Analysis ---> parsing \n",
    " 3. Semantic Analysis\n",
    " 4. Intermediate code Generation\n",
    " 5. Code Optimization\n",
    " 6. Target code Generation.\n",
    " "
   ]
  },
  {
   "cell_type": "raw",
   "id": "fc9ebb2e",
   "metadata": {},
   "source": [
    "# the compiler needs to understand whether the syntax is in correct format or not while creating functions etc.\n",
    "ex- def name(): --> correct syntax.\n",
    "    defss name(): --> incorrect syntax.\n",
    "The compiler uses internally RE's to find the syntax is correct or not."
   ]
  },
  {
   "cell_type": "markdown",
   "id": "85d4bf2e",
   "metadata": {},
   "source": [
    "1. Python contains a special module called re which can be used to find the different patterns and many in-built functions present in it."
   ]
  },
  {
   "cell_type": "raw",
   "id": "9dd52298",
   "metadata": {},
   "source": [
    "1. First we need to convert the pattern to an regex(pattern) object (related to the re class).\n",
    "2. suppose if u want a pattern into an regex object then compile() is used.\n"
   ]
  },
  {
   "cell_type": "code",
   "execution_count": 4,
   "id": "5b3803c9",
   "metadata": {},
   "outputs": [
    {
     "name": "stdout",
     "output_type": "stream",
     "text": [
      "<class 're.Pattern'>\n"
     ]
    }
   ],
   "source": [
    "import re\n",
    "pat=re.compile('python')\n",
    "print(type(pat))"
   ]
  },
  {
   "cell_type": "code",
   "execution_count": 5,
   "id": "d5337e77",
   "metadata": {},
   "outputs": [
    {
     "name": "stdout",
     "output_type": "stream",
     "text": [
      "<class 're.Pattern'>\n"
     ]
    }
   ],
   "source": [
    "import re\n",
    "pattern1=re.compile('python')\n",
    "print(type(pattern1))  # pattern object"
   ]
  },
  {
   "cell_type": "code",
   "execution_count": 6,
   "id": "476ad797",
   "metadata": {},
   "outputs": [],
   "source": [
    "# we want to search for 'python'\n",
    "# at first level,we need to convert to the pattern object.\n",
    "# in above code, we created the pattern object."
   ]
  },
  {
   "cell_type": "code",
   "execution_count": 9,
   "id": "bd671941",
   "metadata": {},
   "outputs": [
    {
     "name": "stdout",
     "output_type": "stream",
     "text": [
      "<class 'callable_iterator'>\n",
      "0 .... 3 .... abc\n",
      "6 .... 9 .... abc\n",
      "11 .... 14 .... abc\n",
      "16 .... 19 .... abc\n",
      "23 .... 26 .... abc\n"
     ]
    }
   ],
   "source": [
    "import re\n",
    "pat1=re.compile('abc')\n",
    "matcher=pat1.finditer('abcccaabcbcabcccabcccddabc')\n",
    "print(type(matcher))\n",
    "for match in matcher:\n",
    "    print(match.start(),\"....\",match.end(),\"....\",match.group())"
   ]
  },
  {
   "cell_type": "raw",
   "id": "052affd6",
   "metadata": {},
   "source": [
    "# let us try to find clearly what these functions are.\n",
    "\n",
    "start(): returns the starting index of the match pattern when it is found.\n",
    "end(): returns the end+1 index of the match pattern. it returns end+1 since the cursor will moves one more position after finding it.\n",
    "group() : returns the object  which we searched for it. simply returns the matched string.\n",
    "when we searched multiple patterns, at that time it can returns us that particular found pattern."
   ]
  },
  {
   "cell_type": "markdown",
   "id": "5c061ff2",
   "metadata": {},
   "source": [
    "1. we need to create a matcher object which is a callable iterator which contains all the result in iterator object.\n",
    "2. we can create this iterator by using the finditer(). \n",
    "3. finditer() --> returns an iterator object here which gives match for every matching."
   ]
  },
  {
   "cell_type": "code",
   "execution_count": 3,
   "id": "e7ba3365",
   "metadata": {},
   "outputs": [
    {
     "name": "stdout",
     "output_type": "stream",
     "text": [
      "<class 'callable_iterator'>\n",
      "0 .... 3 .... abc\n",
      "6 .... 9 .... abc\n",
      "11 .... 14 .... abc\n",
      "16 .... 19 .... abc\n",
      "23 .... 26 .... abc\n",
      "5\n"
     ]
    }
   ],
   "source": [
    "import re\n",
    "pat1=re.compile('abc') # which pattern we want to find \n",
    "matcher=pat1.finditer('abcccaabcbcabcccabcccddabc') # where we want to find that pattern.\n",
    "print(type(matcher))\n",
    "count=0\n",
    "for match in matcher:\n",
    "    count=count+1\n",
    "    print(match.start(),\"....\",match.end(),\"....\",match.group())\n",
    "    \n",
    "print(count)\n",
    "\n",
    "for match in matcher:\n",
    "    print(\"start index is \", match.start())"
   ]
  },
  {
   "cell_type": "code",
   "execution_count": 6,
   "id": "de7a6410",
   "metadata": {},
   "outputs": [
    {
     "name": "stdout",
     "output_type": "stream",
     "text": [
      "<class 'callable_iterator'>\n",
      "start index of match  1  is at  0\n",
      "start index of match  2  is at  6\n",
      "start index of match  3  is at  11\n",
      "start index of match  4  is at  16\n",
      "start index of match  5  is at  23\n"
     ]
    }
   ],
   "source": [
    "pat1=re.compile('abc') # which pattern we want to find \n",
    "matcher=pat1.finditer('abcccaabcbcabcccabcccddabc') # where we want to find that pattern.\n",
    "print(type(matcher))\n",
    "count=0\n",
    "for match in matcher:\n",
    "    count=count+1\n",
    "    print(\"start index of match \",count,\" is at \", match.start())"
   ]
  },
  {
   "cell_type": "code",
   "execution_count": 9,
   "id": "88540145",
   "metadata": {},
   "outputs": [
    {
     "name": "stdout",
     "output_type": "stream",
     "text": [
      "<class 'callable_iterator'>\n",
      "start index of match  1  is at  0\n",
      "start index of match  2  is at  6\n",
      "start index of match  3  is at  11\n",
      "start index of match  4  is at  16\n",
      "start index of match  5  is at  23\n"
     ]
    }
   ],
   "source": [
    "# in finditer() itself,we can pass this pattern object here.\n",
    "matcher=re.finditer('abc','abcccaabcbcabcccabcccddabc') # where we want to find that pattern.\n",
    "print(type(matcher))\n",
    "count=0\n",
    "for match in matcher:\n",
    "    count=count+1\n",
    "    print(\"start index of match \",count,\" is at \", match.start())"
   ]
  },
  {
   "cell_type": "code",
   "execution_count": 11,
   "id": "09fb01da",
   "metadata": {},
   "outputs": [
    {
     "name": "stdout",
     "output_type": "stream",
     "text": [
      "no of occurences is : 0\n"
     ]
    }
   ],
   "source": [
    "matcher=re.finditer('abcd','abcccaabcbcabcccabcccddabc') # where we want to find that pattern.\n",
    "count=0\n",
    "for match in matcher:\n",
    "    count=count+1\n",
    "    print(\"start index of match \",count,\" is at \", match.start())\n",
    "    \n",
    "print(\"no of occurences is :\",count)"
   ]
  },
  {
   "cell_type": "raw",
   "id": "633797d9",
   "metadata": {},
   "source": [
    "# till now we searched for 'ab' pattern here.\n",
    "# now we want to search for the 'a' or 'b' or 'c' pattern in it.\n",
    "# how many alphabet symbols or any digit are present in it. simply we want to search for a group of things here"
   ]
  },
  {
   "cell_type": "markdown",
   "id": "48d9ce2a",
   "metadata": {},
   "source": [
    "# Character classes "
   ]
  },
  {
   "cell_type": "raw",
   "id": "708557f2",
   "metadata": {},
   "source": [
    "# 1. Character classes: classes in RE means a group of things to specify.\n",
    "   [abc] means we are searching for either a or b or c.\n",
    "   [^abc] --. except a and b and c it searches for all things.\n",
    "   [a-z]--> any lower case alphabet symbols.\n",
    "   [A-Z] --> any upper case alphabet symbols\n",
    "   [a-zA-Z] --> any alphabet symbol\n",
    "   [0-9] --> any digit\n",
    "   [a-zA-Z0-9] ==> any alphanumeric character.\n",
    "   [^a-zA-Z0-9]--> special charcters."
   ]
  },
  {
   "cell_type": "code",
   "execution_count": 13,
   "id": "cd8a3a5d",
   "metadata": {},
   "outputs": [
    {
     "name": "stdout",
     "output_type": "stream",
     "text": [
      "0 .... a\n",
      "3 .... b\n",
      "4 .... c\n",
      "9 .... c\n",
      "11 .... a\n",
      "12 .... b\n"
     ]
    }
   ],
   "source": [
    "import re\n",
    "matcher=re.finditer('[abc]','a34bc56gfcdab')\n",
    "for m in matcher:\n",
    "    print(m.start(),\"....\",m.group()) # group returns which one is matched here."
   ]
  },
  {
   "cell_type": "code",
   "execution_count": 14,
   "id": "e36bf2e0",
   "metadata": {},
   "outputs": [
    {
     "name": "stdout",
     "output_type": "stream",
     "text": [
      "1 .... 3\n",
      "2 .... 4\n",
      "5 .... 5\n",
      "6 .... 6\n",
      "7 .... g\n",
      "8 .... f\n",
      "10 .... d\n"
     ]
    }
   ],
   "source": [
    "import re\n",
    "matcher=re.finditer('[^abc]','a34bc56gfcdab') # except a/b/c ,we want all other characters to be searched.\n",
    "for m in matcher:\n",
    "    print(m.start(),\"....\",m.group()) # group returns which one is matched here."
   ]
  },
  {
   "cell_type": "markdown",
   "id": "7fe29429",
   "metadata": {},
   "source": [
    "## FEEL THAT YOU ARE GREAT AND YOU WILL BECOME GREAT\n",
    "#### WE ALL HAVE THE SAME GLORIOUS SOUL,LET US BELEIVE IN IT."
   ]
  },
  {
   "cell_type": "markdown",
   "id": "fdfe8a97",
   "metadata": {},
   "source": [
    "### THERE IS NO LIMIT TO THE POWER OF THE HUMAN MIND.\n",
    "##### THE MORE CONCENTRATED IT IS,THE MORE POWER IT IS BROUGHT TO BEAR ON ONE POINT;THAT IS THE SECRET."
   ]
  },
  {
   "cell_type": "markdown",
   "id": "daa98917",
   "metadata": {},
   "source": [
    "##### A FEW WHOLE HEARTED,SINCERE AND ENERGETIC MEN CAN DO MORE IN A YEAR THAN A MOB IN A CENTURY.\n"
   ]
  },
  {
   "cell_type": "code",
   "execution_count": 1,
   "id": "38c34deb",
   "metadata": {},
   "outputs": [
    {
     "name": "stdout",
     "output_type": "stream",
     "text": [
      "1 .... 3\n",
      "2 .... 4\n",
      "5 .... 5\n",
      "6 .... 6\n"
     ]
    }
   ],
   "source": [
    "import re\n",
    "matcher=re.finditer('[0-9]','a34bc56gfcdab') # except a/b/c ,we want all other characters to be searched.\n",
    "for m in matcher:\n",
    "    print(m.start(),\"....\",m.group())"
   ]
  },
  {
   "cell_type": "code",
   "execution_count": 3,
   "id": "2bee8388",
   "metadata": {},
   "outputs": [
    {
     "name": "stdout",
     "output_type": "stream",
     "text": [
      "0 .... a\n",
      "3 .... b\n",
      "4 .... c\n",
      "5 ....  \n",
      "8 .... g\n",
      "9 .... f\n",
      "10 ....  \n",
      "11 ....  \n",
      "12 ....  \n",
      "13 .... c\n",
      "14 .... d\n",
      "15 .... a\n",
      "16 .... b\n"
     ]
    }
   ],
   "source": [
    "import re\n",
    "matcher=re.finditer('[^0-9]','a34bc 56gf   cdab') # except a/b/c ,we want all other characters to be searched.\n",
    "for m in matcher:\n",
    "    print(m.start(),\"....\",m.group())"
   ]
  },
  {
   "cell_type": "code",
   "execution_count": 4,
   "id": "981272fd",
   "metadata": {},
   "outputs": [
    {
     "name": "stdout",
     "output_type": "stream",
     "text": [
      "0 .... a\n",
      "1 .... 3\n",
      "2 .... 4\n",
      "3 .... b\n",
      "4 .... c\n",
      "5 .... 5\n",
      "6 .... 6\n",
      "7 .... g\n",
      "8 .... f\n",
      "9 .... c\n",
      "10 .... d\n",
      "11 .... a\n",
      "12 .... b\n"
     ]
    }
   ],
   "source": [
    "import re\n",
    "matcher=re.finditer('[A-Za-z0-9]','a34bc56gfcdab') # except a/b/c ,we want all other characters to be searched.\n",
    "for m in matcher:\n",
    "    print(m.start(),\"....\",m.group())"
   ]
  },
  {
   "cell_type": "code",
   "execution_count": 6,
   "id": "df648705",
   "metadata": {},
   "outputs": [
    {
     "name": "stdout",
     "output_type": "stream",
     "text": [
      "8 ....  \n",
      "9 ....  \n",
      "10 .... #\n",
      "11 .... *\n",
      "12 .... @\n"
     ]
    }
   ],
   "source": [
    "import re\n",
    "matcher=re.finditer('[^A-Za-z0-9]','a34bc56g  #*@fcdab') # except a/b/c ,we want all other characters to be searched.\n",
    "for m in matcher:\n",
    "    print(m.start(),\"....\",m.group())"
   ]
  },
  {
   "cell_type": "markdown",
   "id": "bfb263a9",
   "metadata": {},
   "source": [
    "# Predefined character classes:"
   ]
  },
  {
   "cell_type": "raw",
   "id": "f65d19df",
   "metadata": {},
   "source": [
    "\\s ---> space character,whitespace tab newline\n",
    "\\S ---> except space character\n",
    "\\d ==> any digit\n",
    "\\D ---> except digit.\n",
    "\\w --> any word(alphanumeric) characater \n",
    "\\W --> Any character except word character --> special characters\n",
    ". ---> any character (every character).\n",
    "\\b --> word boundary\n",
    "\\B--> not a word boundary.\n",
    "| -> either or such a or b"
   ]
  },
  {
   "cell_type": "code",
   "execution_count": 9,
   "id": "34d24708",
   "metadata": {},
   "outputs": [
    {
     "name": "stdout",
     "output_type": "stream",
     "text": [
      "8 ....  \n",
      "9 ....  \n",
      "17 ....  \n"
     ]
    }
   ],
   "source": [
    "import re\n",
    "matcher=re.finditer('\\s','a34bc56g  #*@fcda b')  # no need of using the[]\n",
    "for m in matcher:\n",
    "    print(m.start(),\"....\",m.group())"
   ]
  },
  {
   "cell_type": "code",
   "execution_count": 10,
   "id": "d8d3b011",
   "metadata": {},
   "outputs": [
    {
     "name": "stdout",
     "output_type": "stream",
     "text": [
      "0 .... a\n",
      "1 .... 3\n",
      "2 .... 4\n",
      "3 .... b\n",
      "4 .... c\n",
      "5 .... 5\n",
      "6 .... 6\n",
      "7 .... g\n",
      "10 .... #\n",
      "11 .... *\n",
      "12 .... @\n",
      "13 .... f\n",
      "14 .... c\n",
      "15 .... d\n",
      "16 .... a\n",
      "18 .... b\n"
     ]
    }
   ],
   "source": [
    "import re\n",
    "matcher=re.finditer('\\S','a34bc56g  #*@fcda b')  # no need of using the[]\n",
    "for m in matcher:\n",
    "    print(m.start(),\"....\",m.group())"
   ]
  },
  {
   "cell_type": "code",
   "execution_count": 11,
   "id": "a7a8bdfe",
   "metadata": {},
   "outputs": [
    {
     "name": "stdout",
     "output_type": "stream",
     "text": [
      "1 .... 3\n",
      "2 .... 4\n",
      "5 .... 5\n",
      "6 .... 6\n"
     ]
    }
   ],
   "source": [
    "import re\n",
    "matcher=re.finditer('\\d','a34bc56g  #*@fcda b')  # no need of using the[]\n",
    "for m in matcher:\n",
    "    print(m.start(),\"....\",m.group())"
   ]
  },
  {
   "cell_type": "code",
   "execution_count": 12,
   "id": "a7198f8e",
   "metadata": {},
   "outputs": [
    {
     "name": "stdout",
     "output_type": "stream",
     "text": [
      "0 .... a\n",
      "1 .... 3\n",
      "2 .... 4\n",
      "3 .... b\n",
      "4 .... c\n",
      "5 .... 5\n",
      "6 .... 6\n",
      "7 .... g\n",
      "10 .... #\n",
      "11 .... *\n",
      "12 .... @\n",
      "13 .... f\n",
      "14 .... c\n",
      "15 .... d\n",
      "16 .... a\n",
      "18 .... b\n"
     ]
    }
   ],
   "source": [
    "import re\n",
    "matcher=re.finditer('\\S','a34bc56g  #*@fcda b')  # no need of using the[]\n",
    "for m in matcher:\n",
    "    print(m.start(),\"....\",m.group())"
   ]
  },
  {
   "cell_type": "code",
   "execution_count": 13,
   "id": "031eff38",
   "metadata": {},
   "outputs": [
    {
     "name": "stdout",
     "output_type": "stream",
     "text": [
      "0 .... a\n",
      "1 .... 3\n",
      "2 .... 4\n",
      "3 .... b\n",
      "4 .... c\n",
      "5 .... 5\n",
      "6 .... 6\n",
      "7 .... g\n",
      "13 .... f\n",
      "14 .... c\n",
      "15 .... d\n",
      "16 .... a\n",
      "18 .... b\n"
     ]
    }
   ],
   "source": [
    "import re\n",
    "matcher=re.finditer('\\w','a34bc56g  #*@fcda b')  # no need of using the[]\n",
    "for m in matcher:\n",
    "    print(m.start(),\"....\",m.group())"
   ]
  },
  {
   "cell_type": "code",
   "execution_count": 14,
   "id": "ebf74391",
   "metadata": {},
   "outputs": [
    {
     "name": "stdout",
     "output_type": "stream",
     "text": [
      "8 ....  \n",
      "9 ....  \n",
      "10 .... #\n",
      "11 .... *\n",
      "12 .... @\n",
      "17 ....  \n"
     ]
    }
   ],
   "source": [
    "import re\n",
    "matcher=re.finditer('\\W','a34bc56g  #*@fcda b')  # no need of using the[]\n",
    "for m in matcher:\n",
    "    print(m.start(),\"....\",m.group())"
   ]
  },
  {
   "cell_type": "code",
   "execution_count": 15,
   "id": "5fd2bda8",
   "metadata": {},
   "outputs": [
    {
     "name": "stdout",
     "output_type": "stream",
     "text": [
      "0 .... a\n",
      "1 .... 3\n",
      "2 .... 4\n",
      "3 .... b\n",
      "4 .... c\n",
      "5 .... 5\n",
      "6 .... 6\n",
      "7 .... g\n",
      "8 ....  \n",
      "9 ....  \n",
      "10 .... #\n",
      "11 .... *\n",
      "12 .... @\n",
      "13 .... f\n",
      "14 .... c\n",
      "15 .... d\n",
      "16 .... a\n",
      "17 ....  \n",
      "18 .... b\n"
     ]
    }
   ],
   "source": [
    "import re\n",
    "matcher=re.finditer('.','a34bc56g  #*@fcda b')  # no need of using the[]\n",
    "for m in matcher:\n",
    "    print(m.start(),\"....\",m.group())"
   ]
  },
  {
   "cell_type": "markdown",
   "id": "ba241f8f",
   "metadata": {},
   "source": [
    "# Quantifiers"
   ]
  },
  {
   "cell_type": "raw",
   "id": "0ec66c19",
   "metadata": {},
   "source": [
    "#Quantifiers can be used to specify  the number of occurences\n",
    "# try to understand this concept more neatly.\n",
    "#  a--> exactly one 'a'\n",
    "# a+ --> atleast one 'a' [ which means either one 'a' should present or more number of 'a'] --> 1 or more\n",
    " even if two a' s are present it is considered as single occurence only.\n",
    "    ex- 'abaaabbbaaaab'\n",
    "    here only 3 occurences are there\n",
    "    since aaa is also treated as one occurence here.\n",
    "\n",
    "\n",
    "# a* --> any number of a's including zero number also. [ when a is present at that index group() returns a else nothing. --> 0 or more.\n",
    "# a{n} --> exactly n number of a's.\n",
    "# a{3} --> 3 a's should be present.\n",
    "#a?--> atmost one 'a' --> either one a or zero number of a's.\n",
    "#a{m,n}--> n minimum number of a and n maximum number of a\n",
    "\n",
    "a{n}a* --> minimum n number of a's should present and after that any number should be present."
   ]
  },
  {
   "cell_type": "code",
   "execution_count": 16,
   "id": "364a19bf",
   "metadata": {},
   "outputs": [
    {
     "name": "stdout",
     "output_type": "stream",
     "text": [
      "0 .... a\n",
      "6 .... aaaa\n",
      "16 .... aaaaaa\n",
      "26 .... aaaa\n",
      "32 .... aaaa\n"
     ]
    }
   ],
   "source": [
    "import re\n",
    "matcher=re.finditer('a+','a34bc5aaaa6g  #*aaaaaa@fcdaaaa baaaa')  # no need of using the[]\n",
    "for m in matcher:\n",
    "    print(m.start(),\"....\",m.group())"
   ]
  },
  {
   "cell_type": "code",
   "execution_count": 17,
   "id": "603e21b0",
   "metadata": {},
   "outputs": [
    {
     "name": "stdout",
     "output_type": "stream",
     "text": [
      "0 .... a\n",
      "1 .... \n",
      "2 .... \n",
      "3 .... \n",
      "4 .... \n",
      "5 .... \n",
      "6 .... aaaa\n",
      "10 .... \n",
      "11 .... \n",
      "12 .... \n",
      "13 .... \n",
      "14 .... \n",
      "15 .... \n",
      "16 .... aaaaaa\n",
      "22 .... \n",
      "23 .... \n",
      "24 .... \n",
      "25 .... \n",
      "26 .... aaaa\n",
      "30 .... \n",
      "31 .... \n",
      "32 .... aaaa\n",
      "36 .... \n"
     ]
    }
   ],
   "source": [
    "import re\n",
    "matcher=re.finditer('a*','a34bc5aaaa6g  #*aaaaaa@fcdaaaa baaaa')  # no need of using the[]\n",
    "for m in matcher:\n",
    "    print(m.start(),\"....\",m.group())\n",
    "    \n",
    "# at index 1 b is present which zero number of a' s . so it is valid only.\n",
    "# in the output if u observe 36 index where it is end of string which means nothing is there (simply a is not present).\n",
    "#zero number of a at end of string. so it is also printed here."
   ]
  },
  {
   "cell_type": "code",
   "execution_count": 18,
   "id": "eb9ec607",
   "metadata": {},
   "outputs": [
    {
     "name": "stdout",
     "output_type": "stream",
     "text": [
      "0 .... a\n",
      "1 .... \n",
      "2 .... \n",
      "3 .... \n",
      "4 .... \n",
      "5 .... \n",
      "6 .... a\n",
      "7 .... a\n",
      "8 .... a\n",
      "9 .... a\n",
      "10 .... \n",
      "11 .... \n",
      "12 .... \n",
      "13 .... \n",
      "14 .... \n",
      "15 .... \n",
      "16 .... a\n",
      "17 .... a\n",
      "18 .... a\n",
      "19 .... a\n",
      "20 .... a\n",
      "21 .... a\n",
      "22 .... \n",
      "23 .... \n",
      "24 .... \n",
      "25 .... \n",
      "26 .... a\n",
      "27 .... a\n",
      "28 .... a\n",
      "29 .... a\n",
      "30 .... \n",
      "31 .... \n",
      "32 .... a\n",
      "33 .... a\n",
      "34 .... a\n",
      "35 .... a\n",
      "36 .... \n"
     ]
    }
   ],
   "source": [
    "import re\n",
    "matcher=re.finditer('a?','a34bc5aaaa6g  #*aaaaaa@fcdaaaa baaaa')  # no need of using the[]\n",
    "for m in matcher:\n",
    "    print(m.start(),\"....\",m.group())\n",
    "    # multiple a's won't be considered as single occurence.\n",
    "    # each a is treated as individual one.\n",
    "    # if a is present it will return a else nothing will be printed in that index."
   ]
  },
  {
   "cell_type": "code",
   "execution_count": 21,
   "id": "e385c436",
   "metadata": {},
   "outputs": [
    {
     "name": "stdout",
     "output_type": "stream",
     "text": [
      "6 .... aaa\n",
      "16 .... aaa\n",
      "19 .... aaa\n",
      "26 .... aaa\n",
      "32 .... aaa\n"
     ]
    }
   ],
   "source": [
    "# wherever exactly 3 a's are present .\n",
    "import re\n",
    "matcher=re.finditer('a{3}','a34bc5aaaa6g  #*aaaaaa@fcdaaaa baaaa')  # no need of using the[]\n",
    "for m in matcher:\n",
    "    print(m.start(),\"....\",m.group())"
   ]
  },
  {
   "cell_type": "code",
   "execution_count": 23,
   "id": "2b5fb774",
   "metadata": {},
   "outputs": [
    {
     "name": "stdout",
     "output_type": "stream",
     "text": [
      "6 .... aaaa\n",
      "16 .... aaaaaa\n",
      "26 .... aaaa\n",
      "32 .... aaaa\n"
     ]
    }
   ],
   "source": [
    "# when you want to print within particular range then use {m,n}\n",
    "import re\n",
    "matcher=re.finditer('a{4,7}','a34bc5aaaa6g  #*aaaaaa@fcdaaaa baaaa')  # no need of using the[]\n",
    "for m in matcher:\n",
    "    print(m.start(),\"....\",m.group())"
   ]
  },
  {
   "cell_type": "code",
   "execution_count": 25,
   "id": "4ef6392d",
   "metadata": {},
   "outputs": [
    {
     "name": "stdout",
     "output_type": "stream",
     "text": [
      "6 .... aaaa\n",
      "22 .... aaaa\n",
      "28 .... aaaa\n"
     ]
    }
   ],
   "source": [
    "# minimum 3 should present and after that any number of a's should be there.\n",
    "import re\n",
    "matcher=re.finditer('a{3}a*','a34bc5aaaa6g  #*aa@fcdaaaa baaaa')  # no need of using the[]\n",
    "for m in matcher:\n",
    "    print(m.start(),\"....\",m.group())"
   ]
  },
  {
   "cell_type": "raw",
   "id": "a2f50ccd",
   "metadata": {},
   "source": [
    "[^] --> if ^ is present in [] then it is except case.\n",
    "^ --> without [] means , it will acts as startswith function.\n",
    "$ --> is used to represent the endswith()\n",
    "\n",
    "^a --> it will check whether the target string starts with a or not.\n",
    " If present result will be printed else nothing will present in the output.\n",
    "a$--> it will check whether the target string ends with a or not\n"
   ]
  },
  {
   "cell_type": "code",
   "execution_count": 26,
   "id": "b0a796f4",
   "metadata": {},
   "outputs": [
    {
     "name": "stdout",
     "output_type": "stream",
     "text": [
      "0 .... a\n"
     ]
    }
   ],
   "source": [
    "import re\n",
    "matcher=re.finditer('^a','a34bc5aaaa6g  #*aa@fcdaaaa baaaa')  # no need of using the[]\n",
    "for m in matcher:\n",
    "    print(m.start(),\"....\",m.group())"
   ]
  },
  {
   "cell_type": "code",
   "execution_count": 27,
   "id": "b9ce0083",
   "metadata": {},
   "outputs": [],
   "source": [
    "import re\n",
    "matcher=re.finditer('^a','ca34bc5aaaa6g  #*aa@fcdaaaa baaaa')  # no need of using the[]\n",
    "for m in matcher:\n",
    "    print(m.start(),\"....\",m.group())"
   ]
  },
  {
   "cell_type": "code",
   "execution_count": 28,
   "id": "c8188264",
   "metadata": {},
   "outputs": [
    {
     "name": "stdout",
     "output_type": "stream",
     "text": [
      "31 .... a\n"
     ]
    }
   ],
   "source": [
    "import re\n",
    "matcher=re.finditer('a$','a34bc5aaaa6g  #*aa@fcdaaaa baaaa')  # no need of using the[]\n",
    "for m in matcher:\n",
    "    print(m.start(),\"....\",m.group())"
   ]
  },
  {
   "cell_type": "code",
   "execution_count": 29,
   "id": "ab857666",
   "metadata": {},
   "outputs": [],
   "source": [
    "import re\n",
    "matcher=re.finditer('a$','a34bc5aaaa6g  #*aa@fcdaaaa baaaac')  # no need of using the[]\n",
    "for m in matcher:\n",
    "    print(m.start(),\"....\",m.group())"
   ]
  },
  {
   "cell_type": "markdown",
   "id": "8067e162",
   "metadata": {},
   "source": [
    "#### Important functions of re module.\n",
    "1. match()\n",
    "2. fullmatch()\n",
    "3. search()\n",
    "4. findall()\n",
    "5. finditer()\n",
    "6. sub()\n",
    "7. subn()\n",
    "8. split()\n",
    "9. compile()"
   ]
  },
  {
   "cell_type": "markdown",
   "id": "4d44a196",
   "metadata": {},
   "source": [
    "1. match() --> to check the given pattern at the beginning of the target string . If present then it returns match object other wise None.\n"
   ]
  },
  {
   "cell_type": "code",
   "execution_count": 30,
   "id": "b6f983bc",
   "metadata": {},
   "outputs": [
    {
     "name": "stdout",
     "output_type": "stream",
     "text": [
      "enter pattern to check:adn\n",
      "Match is available at the beginning of the string\n",
      "0 3\n"
     ]
    }
   ],
   "source": [
    "import re\n",
    "s=input(\"enter pattern to check:\")\n",
    "m=re.match(s,\"adnsdyudisfbnkeruyesbdhfdiskdbcnx\")\n",
    "if m!=None:\n",
    "    print(\"Match is available at the beginning of the string\")\n",
    "    print(m.start(),m.end())\n",
    "else:\n",
    "    print(\"Match not available at the beginning of the string\")"
   ]
  },
  {
   "cell_type": "code",
   "execution_count": 31,
   "id": "b8930365",
   "metadata": {},
   "outputs": [
    {
     "name": "stdout",
     "output_type": "stream",
     "text": [
      "enter pattern to check:abc\n",
      "Match not available at the beginning of the string\n"
     ]
    }
   ],
   "source": [
    "import re\n",
    "s=input(\"enter pattern to check:\")\n",
    "m=re.match(s,\"adnsdyudisfbnkeruyesbdhfdiskdbcnx\")\n",
    "if m!=None:\n",
    "    print(\"Match is available at the beginning of the string\")\n",
    "    print(m.start(),m.end())\n",
    "else:\n",
    "    print(\"Match not available at the beginning of the string\")"
   ]
  },
  {
   "cell_type": "markdown",
   "id": "8160fa96",
   "metadata": {},
   "source": [
    "2. fullmatch()--> full string to be matched with the target string.\n",
    " "
   ]
  },
  {
   "cell_type": "code",
   "execution_count": 1,
   "id": "ee6e99c6",
   "metadata": {},
   "outputs": [
    {
     "name": "stdout",
     "output_type": "stream",
     "text": [
      "enter pattern to check:abc\n",
      "full match not available\n"
     ]
    }
   ],
   "source": [
    "import re\n",
    "s=input(\"enter pattern to check:\")\n",
    "m=re.fullmatch(s,\"abcdef\")\n",
    "if m!=None:\n",
    "    print(\"full match available\")\n",
    "    print(m.start(),m.end())\n",
    "else:\n",
    "    print(\"full match not available\")"
   ]
  },
  {
   "cell_type": "code",
   "execution_count": 2,
   "id": "74d37e5d",
   "metadata": {},
   "outputs": [
    {
     "name": "stdout",
     "output_type": "stream",
     "text": [
      "enter pattern to check:abcd\n",
      "full match available\n",
      "0 4\n"
     ]
    }
   ],
   "source": [
    "import re\n",
    "s=input(\"enter pattern to check:\")\n",
    "m=re.fullmatch(s,\"abcd\")\n",
    "if m!=None:\n",
    "    print(\"full match available\")\n",
    "    print(m.start(),m.end())\n",
    "else:\n",
    "    print(\"full match not available\")"
   ]
  },
  {
   "cell_type": "markdown",
   "id": "c9ffef0e",
   "metadata": {},
   "source": [
    "3. search() -- to search the given string in the target string irrespective of the location.I f present, then it will returns the match object of the first occurence. else None\n"
   ]
  },
  {
   "cell_type": "code",
   "execution_count": 1,
   "id": "c865b199",
   "metadata": {},
   "outputs": [
    {
     "name": "stdout",
     "output_type": "stream",
     "text": [
      "enter pattern to check:bc\n",
      "full match available\n",
      "1 3\n"
     ]
    }
   ],
   "source": [
    "import re\n",
    "s=input(\"enter pattern to check:\")\n",
    "m=re.search(s,\"abcd\")\n",
    "if m!=None:\n",
    "    print(\"full match available\")\n",
    "    print(m.start(),m.end())\n",
    "else:\n",
    "    print(\"full match not available\")"
   ]
  },
  {
   "cell_type": "code",
   "execution_count": 12,
   "id": "0e204f86",
   "metadata": {},
   "outputs": [
    {
     "name": "stdout",
     "output_type": "stream",
     "text": [
      "enter pattern to check:z\n",
      "None\n",
      "full match not available\n"
     ]
    }
   ],
   "source": [
    "import re\n",
    "s=input(\"enter pattern to check:\")\n",
    "m=re.search(s,\"abcd\")\n",
    "if m!=None:\n",
    "    print(\"full match available\")\n",
    "    print(m.start(),m.end())\n",
    "else:\n",
    "    print(m)\n",
    "    print(\"full match not available\")"
   ]
  },
  {
   "cell_type": "markdown",
   "id": "931691cf",
   "metadata": {},
   "source": [
    "4. findall() --> to return all the occurences of the matches. returns the list here."
   ]
  },
  {
   "cell_type": "code",
   "execution_count": 2,
   "id": "49ef8913",
   "metadata": {},
   "outputs": [
    {
     "name": "stdout",
     "output_type": "stream",
     "text": [
      "['5', '6', '7', '8', '3', '2', '6', '4', '7', '3', '8']\n"
     ]
    }
   ],
   "source": [
    "import re\n",
    "m=re.findall('[0-9]',\"abcd567832bfdks64738fhjdks\")\n",
    "print(m)"
   ]
  },
  {
   "cell_type": "raw",
   "id": "b0786743",
   "metadata": {},
   "source": [
    " . will skip the new line character ."
   ]
  },
  {
   "cell_type": "code",
   "execution_count": 10,
   "id": "17d5acba",
   "metadata": {},
   "outputs": [
    {
     "name": "stdout",
     "output_type": "stream",
     "text": [
      "0 .... f\n",
      "1 .... g\n",
      "2 .... h\n",
      "3 .... j\n",
      "4 .... k\n",
      "5 .... l\n",
      "6 .... k\n",
      "7 .... j\n",
      "8 .... h\n",
      "9 ....  \n",
      "10 ....  \n",
      "11 ....  \n",
      "12 ....  \n",
      "13 ....  \n",
      "14 ....  \n",
      "15 ....  \n",
      "16 ....  \n",
      "17 .... \n",
      "\n",
      "18 .... a\n",
      "19 .... 3\n",
      "20 .... 4\n",
      "21 .... b\n",
      "22 .... c\n",
      "23 .... 5\n",
      "24 .... a\n",
      "25 .... a\n",
      "26 .... a\n",
      "27 .... a\n",
      "28 .... 6\n",
      "29 .... g\n",
      "30 ....  \n",
      "31 ....  \n",
      "32 .... #\n",
      "33 .... *\n",
      "34 .... a\n",
      "35 .... a\n",
      "36 .... @\n",
      "37 .... f\n",
      "38 .... c\n",
      "40 .... a\n",
      "41 .... a\n",
      "42 .... a\n",
      "43 .... a\n",
      "44 ....  \n",
      "45 .... b\n",
      "46 .... a\n",
      "47 .... a\n",
      "48 .... a\n",
      "49 .... a\n",
      "50 .... \n",
      "\n"
     ]
    }
   ],
   "source": [
    "import re\n",
    "matcher=re.finditer('[^d]','''fghjklkjh        \n",
    "a34bc5aaaa6g  #*aa@fcdaaaa baaaa\n",
    "''')  # no need of using the[]\n",
    "for m in matcher:\n",
    "    print(m.start(),\"....\",m.group())\n",
    "    # at 10 it will represent the new line here."
   ]
  },
  {
   "cell_type": "markdown",
   "id": "140f2486",
   "metadata": {},
   "source": [
    "# part -2"
   ]
  },
  {
   "cell_type": "markdown",
   "id": "4f04f818",
   "metadata": {},
   "source": [
    " 5. finditer(): it returns the iterator of the matched object.\n",
    " we can use the for loop for this resulted iterator and apply start(),end() and group()."
   ]
  },
  {
   "cell_type": "code",
   "execution_count": 17,
   "id": "68b6f895",
   "metadata": {},
   "outputs": [
    {
     "name": "stdout",
     "output_type": "stream",
     "text": [
      "0 .... 1 ... 7\n",
      "1 .... 2 ... 8\n",
      "8 .... 9 ... 5\n",
      "9 .... 10 ... 4\n",
      "17 .... 18 ... 9\n",
      "18 .... 19 ... 4\n",
      "19 .... 20 ... 5\n",
      "20 .... 21 ... 8\n"
     ]
    }
   ],
   "source": [
    "import re\n",
    "matcher=re.finditer(\"\\d\",\"78trebnf54hjktiro9458\")\n",
    "for m in matcher:\n",
    "    print(m.start(),\"....\",m.end(),\"...\",m.group())"
   ]
  },
  {
   "cell_type": "code",
   "execution_count": 24,
   "id": "5e754a2c",
   "metadata": {},
   "outputs": [
    {
     "name": "stdout",
     "output_type": "stream",
     "text": [
      "2 .... 3 ... t\n",
      "3 .... 4 ... r\n",
      "4 .... 5 ... e\n",
      "5 .... 6 ... b\n",
      "6 .... 7 ... n\n",
      "7 .... 8 ... f\n",
      "10 .... 11 ... h\n",
      "11 .... 12 ... j\n",
      "12 .... 13 ... k\n",
      "13 .... 14 ... t\n",
      "14 .... 15 ... i\n",
      "15 .... 16 ... r\n",
      "16 .... 17 ... o\n"
     ]
    }
   ],
   "source": [
    "import re\n",
    "matcher=re.finditer(\"\\D\",\"78trebnf54hjktiro9458\")\n",
    "for m in matcher:\n",
    "    print(m.start(),\"....\",m.end(),\"...\",m.group())"
   ]
  },
  {
   "cell_type": "markdown",
   "id": "ade1213a",
   "metadata": {},
   "source": [
    "6. sub():\n",
    "    1. sub means substitution or replacement\n",
    "    2. if the pattern is matched with the target string , then replace the string with the new string.\n",
    "    3. re.sub(regex,replacement,target_string)"
   ]
  },
  {
   "cell_type": "code",
   "execution_count": 25,
   "id": "2d5f9fd6",
   "metadata": {},
   "outputs": [
    {
     "name": "stdout",
     "output_type": "stream",
     "text": [
      "fghjk&&&fgh&&fghj\n"
     ]
    }
   ],
   "source": [
    "import re\n",
    "s=re.sub('\\d',\"&\",\"fghjk567fgh65fghj\") # replaces all the digits with &.\n",
    "print(s)"
   ]
  },
  {
   "cell_type": "code",
   "execution_count": 27,
   "id": "2c56618a",
   "metadata": {},
   "outputs": [
    {
     "name": "stdout",
     "output_type": "stream",
     "text": [
      "indra is a greatest data scientist. super man indra\n"
     ]
    }
   ],
   "source": [
    "import re\n",
    "s=re.sub('phani',\"indra\",\"phani is a greatest data scientist. super man phani\") # replaces all the digits with &.\n",
    "print(s)"
   ]
  },
  {
   "cell_type": "markdown",
   "id": "11206df2",
   "metadata": {},
   "source": [
    "7. subn():\n",
    "    1. this n will be used to know the number of replacements done.\n",
    "    2. return type is tuple here.\n",
    "    3.  first value is the result string and second value is the number of the replacements.\n",
    "    4. t[0] -> gives result string.\n",
    "    5. t[1] --> gives the number of how many substitutions happened.\n"
   ]
  },
  {
   "cell_type": "code",
   "execution_count": 32,
   "id": "b25bfb8e",
   "metadata": {},
   "outputs": [
    {
     "name": "stdout",
     "output_type": "stream",
     "text": [
      "('indra is a greatest data scientist. super man indra', 2)\n",
      "<class 'tuple'>\n"
     ]
    }
   ],
   "source": [
    "import re\n",
    "s=re.subn('phani',\"indra\",\"phani is a greatest data scientist. super man phani\") # replaces all the digits with &.\n",
    "print(s)\n",
    "print(type(s))"
   ]
  },
  {
   "cell_type": "code",
   "execution_count": 30,
   "id": "a84dd431",
   "metadata": {},
   "outputs": [
    {
     "data": {
      "text/plain": [
       "'indra is a greatest data scientist. super man indra'"
      ]
     },
     "execution_count": 30,
     "metadata": {},
     "output_type": "execute_result"
    }
   ],
   "source": [
    "s[0]"
   ]
  },
  {
   "cell_type": "code",
   "execution_count": 31,
   "id": "32a01291",
   "metadata": {},
   "outputs": [
    {
     "data": {
      "text/plain": [
       "2"
      ]
     },
     "execution_count": 31,
     "metadata": {},
     "output_type": "execute_result"
    }
   ],
   "source": [
    "s[1]"
   ]
  },
  {
   "cell_type": "raw",
   "id": "3409ea74",
   "metadata": {},
   "source": [
    "# split() is available in both of the string concepts and the regular expressions also."
   ]
  },
  {
   "cell_type": "code",
   "execution_count": 33,
   "id": "ab777b00",
   "metadata": {},
   "outputs": [
    {
     "name": "stdout",
     "output_type": "stream",
     "text": [
      "['10', '20', '30', '40', '50']\n"
     ]
    }
   ],
   "source": [
    "l=re.split(\"-\",\"10-20-30-40-50\")\n",
    "print(l)"
   ]
  },
  {
   "cell_type": "code",
   "execution_count": 34,
   "id": "9853026b",
   "metadata": {},
   "outputs": [
    {
     "name": "stdout",
     "output_type": "stream",
     "text": [
      "['', '', '', '', '', '', '', '', '', '', '', '', '', '', '', '', '', '', '', '', '', '']\n"
     ]
    }
   ],
   "source": [
    "l=re.split(\".\",\"www.indianhistory.com\")\n",
    "print(l)\n",
    "# dot means every charcater which means splitting for every character.\n",
    "# nothing will be printed."
   ]
  },
  {
   "cell_type": "code",
   "execution_count": 36,
   "id": "86bdc29f",
   "metadata": {},
   "outputs": [
    {
     "name": "stdout",
     "output_type": "stream",
     "text": [
      "['www', 'indianhistory', 'com']\n"
     ]
    }
   ],
   "source": [
    "l=re.split(\"\\.\",\"www.indianhistory.com\")\n",
    "print(l)\n",
    "# use \\ escape sequence to get the correct output."
   ]
  },
  {
   "cell_type": "code",
   "execution_count": 37,
   "id": "86444e0c",
   "metadata": {},
   "outputs": [
    {
     "name": "stdout",
     "output_type": "stream",
     "text": [
      "['www', 'indianhistory', 'com']\n"
     ]
    }
   ],
   "source": [
    "l=re.split(\"[.]\",\"www.indianhistory.com\")\n",
    "print(l)"
   ]
  },
  {
   "cell_type": "code",
   "execution_count": 4,
   "id": "b8bcc798",
   "metadata": {},
   "outputs": [
    {
     "name": "stdout",
     "output_type": "stream",
     "text": [
      "<re.Match object; span=(0, 5), match='learn'>\n"
     ]
    }
   ],
   "source": [
    "import re\n",
    "s1=\"learn python first\"\n",
    "res=re.search(\"^learn\",s1)\n",
    "print(res)"
   ]
  },
  {
   "cell_type": "code",
   "execution_count": 5,
   "id": "b242a947",
   "metadata": {},
   "outputs": [
    {
     "name": "stdout",
     "output_type": "stream",
     "text": [
      "None\n"
     ]
    }
   ],
   "source": [
    "import re\n",
    "s1=\"learn python first\"\n",
    "res=re.search(\"^earn\",s1)\n",
    "print(res)"
   ]
  },
  {
   "cell_type": "code",
   "execution_count": 6,
   "id": "354a700b",
   "metadata": {},
   "outputs": [
    {
     "name": "stdout",
     "output_type": "stream",
     "text": [
      "<re.Match object; span=(13, 18), match='first'>\n"
     ]
    }
   ],
   "source": [
    "import re\n",
    "s1=\"learn python first\"\n",
    "res=re.search(\"first$\",s1)\n",
    "print(res)"
   ]
  },
  {
   "cell_type": "code",
   "execution_count": 7,
   "id": "0496ad4d",
   "metadata": {},
   "outputs": [
    {
     "name": "stdout",
     "output_type": "stream",
     "text": [
      "None\n"
     ]
    }
   ],
   "source": [
    "import re\n",
    "s1=\"learn python first\"\n",
    "res=re.search(\"last$\",s1)\n",
    "print(res)"
   ]
  },
  {
   "cell_type": "code",
   "execution_count": 8,
   "id": "31b1f5e1",
   "metadata": {},
   "outputs": [
    {
     "name": "stdout",
     "output_type": "stream",
     "text": [
      "<re.Match object; span=(13, 18), match='FiRst'>\n"
     ]
    }
   ],
   "source": [
    "# sometimes we need to ignore the cases \n",
    "# so we can use re.IGNORECASE parameter here.\n",
    "import re\n",
    "s1=\"learn python FiRst\"\n",
    "res=re.search(\"first$\",s1,re.IGNORECASE)\n",
    "print(res)"
   ]
  },
  {
   "cell_type": "raw",
   "id": "79d9fa76",
   "metadata": {},
   "source": [
    "# write a program to find the pattern for All Yava Language Identifiers. yava is just we created name for it. \n",
    "1. The allowed characters are:\n",
    "    alphabets,digits,#\n",
    "2. first character should be lower case alphabet symbol from a to k.\n",
    "3. the second character should be any digit divisible by 3\n",
    "4. The length of identifier should be atleast 2."
   ]
  },
  {
   "cell_type": "raw",
   "id": "e067ce7e",
   "metadata": {},
   "source": [
    "#for first character we can give as [a-k]\n",
    "#second character : divisible by3 means 0,3,6,9 which means[0369] either 0 or 3 or 6 or 9.\n",
    "# since the length of the identifier should be atleast 2 and the first two conditions are satisfied, the third one can be anything(even 0 times also)\n",
    "# after two length we don't have any restrictions here.\n",
    "# for third character we can take anything such as a-z or A-Z or 0-9 or # characters. let it be even zero number of times.\n",
    "#* means 0 or more allowed\n",
    "#we  need to use full match as we wil check the full string to validate here."
   ]
  },
  {
   "cell_type": "code",
   "execution_count": 10,
   "id": "1731f7ca",
   "metadata": {},
   "outputs": [
    {
     "name": "stdout",
     "output_type": "stream",
     "text": [
      "enter the identifier to validate:sdf\n",
      "sdf  is not valid Yava Identifier\n"
     ]
    }
   ],
   "source": [
    "import re\n",
    "s=input(\"enter the identifier to validate:\")\n",
    "m=re.fullmatch('[a-k][0369][a-zA-Z0-9#]*',s) # this \n",
    "if m!=None:\n",
    "    print(s,\" is valid yava Identifier\")\n",
    "else:\n",
    "    print(s,\" is not valid Yava Identifier\")"
   ]
  },
  {
   "cell_type": "code",
   "execution_count": 11,
   "id": "72f4b0ec",
   "metadata": {},
   "outputs": [
    {
     "name": "stdout",
     "output_type": "stream",
     "text": [
      "enter the identifier to validate:a4r\n",
      "a4r  is not valid Yava Identifier\n"
     ]
    }
   ],
   "source": [
    "import re\n",
    "s=input(\"enter the identifier to validate:\")\n",
    "m=re.fullmatch('[a-k][0369][a-zA-Z0-9#]*',s) # this is the regular expression for all yava identifiers.\n",
    "if m!=None:\n",
    "    print(s,\" is valid yava Identifier\")\n",
    "else:\n",
    "    print(s,\" is not valid Yava Identifier\")"
   ]
  },
  {
   "cell_type": "code",
   "execution_count": 1,
   "id": "eaecb7ef",
   "metadata": {},
   "outputs": [
    {
     "name": "stdout",
     "output_type": "stream",
     "text": [
      "enter the identifier to validate:a9fd\n",
      "a9fd  is valid yava Identifier\n"
     ]
    }
   ],
   "source": [
    "import re\n",
    "s=input(\"enter the identifier to validate:\")\n",
    "m=re.fullmatch('[a-k][0369][a-zA-Z0-9#]*',s) # this is the regular expression for all yava identifiers.\n",
    "if m!=None:\n",
    "    print(s,\" is valid yava Identifier\")\n",
    "else:\n",
    "    print(s,\" is not valid Yava Identifier\")"
   ]
  },
  {
   "cell_type": "raw",
   "id": "d9da0b1a",
   "metadata": {},
   "source": [
    "# if we have multiple matches then we need to use the finditer.\n",
    "# write a program for 10 digit mobile number pattern. to check whether a given number is valid number or not.\n",
    "# in india we know that first number starts with either 6/7/8/9----->[6789].\n",
    "# second digit will be from [0-9]\n",
    "# here we can't use * 0r + symbol we know exactly how many iterations need to be performed and not more than 10 or less than 10.\n",
    "# we want 0-9 exactly 9 times. {9}\n",
    "# so [6789][0-9]{9} ---> [6-9]\\d{9}\n"
   ]
  },
  {
   "cell_type": "code",
   "execution_count": 2,
   "id": "5b4d0e0f",
   "metadata": {},
   "outputs": [
    {
     "name": "stdout",
     "output_type": "stream",
     "text": [
      "enter the number to validate:764325\n",
      "764325  is not valid Yava Identifier\n"
     ]
    }
   ],
   "source": [
    "import re\n",
    "s=input(\"enter the number to validate:\")\n",
    "m=re.fullmatch('[6-9]\\d{9}',s) # this is the regular expression for all mobile numbers\n",
    "if m!=None:\n",
    "    print(s,\" is valid yava Identifier\")\n",
    "else:\n",
    "    print(s,\" is not valid Yava Identifier\")"
   ]
  },
  {
   "cell_type": "code",
   "execution_count": 4,
   "id": "8804ea5c",
   "metadata": {},
   "outputs": [
    {
     "name": "stdout",
     "output_type": "stream",
     "text": [
      "enter the number to validate:8098900989\n",
      "8098900989  is valid mobile number \n"
     ]
    }
   ],
   "source": [
    "import re\n",
    "s=input(\"enter the number to validate:\")\n",
    "m=re.fullmatch('[6-9]\\d{9}',s) # this is the regular expression for all mobile numbers\n",
    "if m!=None:\n",
    "    print(s,\" is valid mobile number \")\n",
    "else:\n",
    "    print(s,\" is not valid mobile number \")"
   ]
  },
  {
   "cell_type": "markdown",
   "id": "aed035f4",
   "metadata": {},
   "source": [
    "#### write a program to check the pattern for the below conditions:\n",
    "1. the number can be either 10 or 11 or 12 or 13 digit number.\n",
    "2. if it is 10 digit, then first number should be 6-9.\n",
    "3. if it is 11 digit, then first number should be 0.\n",
    "4. if it is 12 digit, then first two digit should be 91.\n",
    "5. if it is 13 digit, then first 3 digits should be +91."
   ]
  },
  {
   "cell_type": "code",
   "execution_count": null,
   "id": "393c799d",
   "metadata": {},
   "outputs": [],
   "source": [
    "# for this program much more modifications need to be done.\n",
    "import re\n",
    "s=input(\"enter the number to validate:\")\n",
    "m=re.fullmatch('[6-9]\\d{9,12}',s) # this is the regular expression for all mobile numbers\n",
    "if m!=None:\n",
    "    print(s,\" is valid mobile number \")\n",
    "else:\n",
    "    print(s,\" is not valid mobile number \")"
   ]
  },
  {
   "cell_type": "code",
   "execution_count": 5,
   "id": "122a7d61",
   "metadata": {},
   "outputs": [],
   "source": [
    "# write a program to extract all mobile numbers present in the input.txt file.\n",
    "# suppose we got 10000 job applications.\n",
    "# we need to send sms to each and every number from the resumes.\n",
    "# we need to open each resume,get the number and send sms to it.\n",
    "# Manually it takes so much time to do it. so we will go with programming and makes it easier .\n",
    "# let us treat we have all data in the text file.\n",
    "# i saved all data in file1.txt"
   ]
  },
  {
   "cell_type": "code",
   "execution_count": 7,
   "id": "ada79416",
   "metadata": {},
   "outputs": [],
   "source": [
    "import re\n",
    "file=open(\"file1.txt\")\n",
    "opfile=open(\"outputfile.txt\",\"w\")\n",
    "for line in file:\n",
    "    s=re.findall('[6-9]\\d{9}',line) # return the number to the list for every time \n",
    "    for a in s:\n",
    "        opfile.write(a+\"\\n\")  # write mobile number from list and move to the next line.\n",
    "file.close()\n",
    "opfile.close()"
   ]
  },
  {
   "cell_type": "markdown",
   "id": "d5c77990",
   "metadata": {},
   "source": [
    "# web scrapping"
   ]
  },
  {
   "cell_type": "markdown",
   "id": "6af7b1c2",
   "metadata": {},
   "source": [
    "1. it means collecting the information from the web pages.\n",
    "2. the data present in the web pages such as mails phone numbers etc can get by using some specific patterns.\n",
    "3. regex are used for web scrapping.\n",
    "4. here we need to use a special module called urllib to read data from web pages.\n",
    "5. open url first and then read data in it. so we use urllib.\n"
   ]
  },
  {
   "cell_type": "code",
   "execution_count": 1,
   "id": "932b917a",
   "metadata": {},
   "outputs": [
    {
     "name": "stdout",
     "output_type": "stream",
     "text": [
      "searching ... https://www.google.com\n",
      "<title>Google</title>\n",
      "searching ... https://rediff.com\n",
      "<title>Rediff.com: News | Rediffmail | Stock Quotes | Shopping</title>\n"
     ]
    }
   ],
   "source": [
    "import re,urllib\n",
    "import urllib.request # this will request to server to open website\n",
    "sites=[\"https://www.google.com\",\"https://rediff.com\"]\n",
    "for s in sites:\n",
    "    print(\"searching ...\",s)\n",
    "    u=urllib.request.urlopen(s)\n",
    "    text=u.read() # reads the complete html page of the google.\n",
    "    title=re.findall(\"<title>.*</title>\",str(text),re.IGNORECASE) # in html page , there will be title present in this pattern.\n",
    "    print(title[0])"
   ]
  },
  {
   "cell_type": "code",
   "execution_count": 4,
   "id": "34ad3186",
   "metadata": {},
   "outputs": [
    {
     "name": "stdout",
     "output_type": "stream",
     "text": [
      "searching ... https://www.google.com\n",
      "b'<!doctype html><html itemscope=\"\" itemtype=\"http://schema.org/WebPage\" lang=\"en-IN\"><head><meta content=\"text/html; charset=UTF-8\" http-equiv=\"Content-Type\"><meta content=\"/images/branding/googleg/1x/googleg_standard_color_128dp.png\" itemprop=\"image\"><title>Google</title><script nonce=\"I3HalWFNGpphQ9BHgcx4bg\">(function(){var _g={kEI:\\'zM-cZPPVM9PN-Qb6yLDYBQ\\',kEXPI:\\'0,1359409,1709,4349,207,4804,2316,383,246,5,1129120,1197717,677,230,379867,16114,28684,22430,1362,12318,17581,4998,17075,38444,2872,2891,11754,606,29842,30848,2614,3784,9707,230,1014,1,16916,2652,4,1528,2304,29062,13065,13658,4437,22610,6627,7596,1,11942,30212,2,16737,23024,5679,1020,31122,4569,6255,23421,1252,5835,19300,8,4247,3229,445,2,2,1,24626,2006,8155,7381,2,15967,873,6578,13056,7,1922,7838,1941,12414,10494,19551,20199,927,19209,14,82,13332,6874,3370,5007,3787,15173,578,3834,991,2266,764,5629,482,9705,1213,591,7734,2738,2884,450,19291,2971,7987,2365,2089,87,118,298,5503,2,2147,893,872,4128,1146,5905,2370,355,3083,2129,5785,449,4502,818,4893,560,1501,3,3,9,3705,440,962,309,2041,372,1179,597,1,2456,5207324,2,8797940,3311,141,795,19736,347,5995,615,14,225,36,45,15,23943539,397,182,2737886,1305642,14298,2375,2893,6250,17097,2792,3918,1756,1102,191,1403940,681643,23077627,994,2329,278,19,236,1678,787,1842,266,1972,24,792,112,448,1075,338,30,412,1549,3098,220,636,622,569,2799,98,241,623,326,195,565,223,288,2877,650,24,531,341,4,199,629,78,1,1319,348,328,632,115,401,211,3,1276,125,130,255,798,437,203,275,1076,35,1042,324,470,216,124,1,1080,60,1254,124,10,206,259,33,288,16,276,324,130,653,5,11,148,40,129,29,326,3,3,576,455,977,689,14,834,525,116,3,170,446,672,243,129,1397,7,228,37,1238,300,2,325,112,600,71,249,611,1216,166,524\\',kBL:\\'Wkbp\\',kOPI:89978449};(function(){var a;(null==(a=window.google)?0:a.stvsc)?google.kEI=_g.kEI:window.google=_g;}).call(this);})();(function(){google.sn=\\'webhp\\';google.kHL=\\'en-IN\\';})();(function(){\\nvar h=this||self;function l(){return void 0!==window.google&&void 0!==window.google.kOPI&&0!==window.google.kOPI?window.google.kOPI:null};var m,n=[];function p(a){for(var b;a&&(!a.getAttribute||!(b=a.getAttribute(\"eid\")));)a=a.parentNode;return b||m}function q(a){for(var b=null;a&&(!a.getAttribute||!(b=a.getAttribute(\"leid\")));)a=a.parentNode;return b}function r(a){/^http:/i.test(a)&&\"https:\"===window.location.protocol&&(google.ml&&google.ml(Error(\"a\"),!1,{src:a,glmm:1}),a=\"\");return a}\\nfunction t(a,b,c,d,k){var e=\"\";-1===b.search(\"&ei=\")&&(e=\"&ei=\"+p(d),-1===b.search(\"&lei=\")&&(d=q(d))&&(e+=\"&lei=\"+d));d=\"\";var g=-1===b.search(\"&cshid=\")&&\"slh\"!==a,f=[];f.push([\"zx\",Date.now().toString()]);h._cshid&&g&&f.push([\"cshid\",h._cshid]);c=c();null!=c&&f.push([\"opi\",c.toString()]);for(c=0;c<f.length;c++){if(0===c||0<c)d+=\"&\";d+=f[c][0]+\"=\"+f[c][1]}return\"/\"+(k||\"gen_204\")+\"?atyp=i&ct=\"+String(a)+\"&cad=\"+(b+e+d)};m=google.kEI;google.getEI=p;google.getLEI=q;google.ml=function(){return null};google.log=function(a,b,c,d,k,e){e=void 0===e?l:e;c||(c=t(a,b,e,d,k));if(c=r(c)){a=new Image;var g=n.length;n[g]=a;a.onerror=a.onload=a.onabort=function(){delete n[g]};a.src=c}};google.logUrl=function(a,b){b=void 0===b?l:b;return t(\"\",a,b)};}).call(this);(function(){google.y={};google.sy=[];google.x=function(a,b){if(a)var c=a.id;else{do c=Math.random();while(google.y[c])}google.y[c]=[a,b];return!1};google.sx=function(a){google.sy.push(a)};google.lm=[];google.plm=function(a){google.lm.push.apply(google.lm,a)};google.lq=[];google.load=function(a,b,c){google.lq.push([[a],b,c])};google.loadAll=function(a,b){google.lq.push([a,b])};google.bx=!1;google.lx=function(){};}).call(this);google.f={};(function(){\\ndocument.documentElement.addEventListener(\"submit\",function(b){var a;if(a=b.target){var c=a.getAttribute(\"data-submitfalse\");a=\"1\"===c||\"q\"===c&&!a.elements.q.value?!0:!1}else a=!1;a&&(b.preventDefault(),b.stopPropagation())},!0);document.documentElement.addEventListener(\"click\",function(b){var a;a:{for(a=b.target;a&&a!==document.documentElement;a=a.parentElement)if(\"A\"===a.tagName){a=\"1\"===a.getAttribute(\"data-nohref\");break a}a=!1}a&&b.preventDefault()},!0);}).call(this);</script><style>#gbar,#guser{font-size:13px;padding-top:1px !important;}#gbar{height:22px}#guser{padding-bottom:7px !important;text-align:right}.gbh,.gbd{border-top:1px solid #c9d7f1;font-size:1px}.gbh{height:0;position:absolute;top:24px;width:100%}@media all{.gb1{height:22px;margin-right:.5em;vertical-align:top}#gbar{float:left}}a.gb1,a.gb4{text-decoration:underline !important}a.gb1,a.gb4{color:#00c !important}.gbi .gb4{color:#dd8e27 !important}.gbf .gb4{color:#900 !important}\\n</style><style>body,td,a,p,.h{font-family:arial,sans-serif}body{margin:0;overflow-y:scroll}#gog{padding:3px 8px 0}td{line-height:.8em}.gac_m td{line-height:17px}form{margin-bottom:20px}.h{color:#1967d2}em{font-weight:bold;font-style:normal}.lst{height:25px;width:496px}.gsfi,.lst{font:18px arial,sans-serif}.gsfs{font:17px arial,sans-serif}.ds{display:inline-box;display:inline-block;margin:3px 0 4px;margin-left:4px}input{font-family:inherit}body{background:#fff;color:#000}a{color:#681da8;text-decoration:none}a:hover,a:active{text-decoration:underline}.fl a{color:#1967d2}a:visited{color:#681da8}.sblc{padding-top:5px}.sblc a{display:block;margin:2px 0;margin-left:13px;font-size:11px}.lsbb{background:#f8f9fa;border:solid 1px;border-color:#dadce0 #70757a #70757a #dadce0;height:30px}.lsbb{display:block}#WqQANb a{display:inline-block;margin:0 12px}.lsb{background:url(/images/nav_logo229.png) 0 -261px repeat-x;color:#000;border:none;cursor:pointer;height:30px;margin:0;outline:0;font:15px arial,sans-serif;vertical-align:top}.lsb:active{background:#dadce0}.lst:focus{outline:none}</style><script nonce=\"I3HalWFNGpphQ9BHgcx4bg\">(function(){window.google.erd={jsr:1,bv:1821,de:true};\\nvar h=this||self;var k,l=null!=(k=h.mei)?k:1,n,p=null!=(n=h.sdo)?n:!0,q=0,r,t=google.erd,v=t.jsr;google.ml=function(a,b,d,m,e){e=void 0===e?2:e;b&&(r=a&&a.message);if(google.dl)return google.dl(a,e,d),null;if(0>v){window.console&&console.error(a,d);if(-2===v)throw a;b=!1}else b=!a||!a.message||\"Error loading script\"===a.message||q>=l&&!m?!1:!0;if(!b)return null;q++;d=d||{};b=encodeURIComponent;var c=\"/gen_204?atyp=i&ei=\"+b(google.kEI);google.kEXPI&&(c+=\"&jexpid=\"+b(google.kEXPI));c+=\"&srcpg=\"+b(google.sn)+\"&jsr=\"+b(t.jsr)+\"&bver=\"+b(t.bv);var f=a.lineNumber;void 0!==f&&(c+=\"&line=\"+f);var g=\\na.fileName;g&&(0<g.indexOf(\"-extension:/\")&&(e=3),c+=\"&script=\"+b(g),f&&g===window.location.href&&(f=document.documentElement.outerHTML.split(\"\\\\n\")[f],c+=\"&cad=\"+b(f?f.substring(0,300):\"No script found.\")));c+=\"&jsel=\"+e;for(var u in d)c+=\"&\",c+=b(u),c+=\"=\",c+=b(d[u]);c=c+\"&emsg=\"+b(a.name+\": \"+a.message);c=c+\"&jsst=\"+b(a.stack||\"N/A\");12288<=c.length&&(c=c.substr(0,12288));a=c;m||google.log(0,\"\",a);return a};window.onerror=function(a,b,d,m,e){r!==a&&(a=e instanceof Error?e:Error(a),void 0===d||\"lineNumber\"in a||(a.lineNumber=d),void 0===b||\"fileName\"in a||(a.fileName=b),google.ml(a,!1,void 0,!1,\"SyntaxError\"===a.name||\"SyntaxError\"===a.message.substring(0,11)||-1!==a.message.indexOf(\"Script error\")?3:0));r=null;p&&q>=l&&(window.onerror=null)};})();</script></head><body bgcolor=\"#fff\"><script nonce=\"I3HalWFNGpphQ9BHgcx4bg\">(function(){var src=\\'/images/nav_logo229.png\\';var iesg=false;document.body.onload = function(){window.n && window.n();if (document.images){new Image().src=src;}\\nif (!iesg){document.f&&document.f.q.focus();document.gbqf&&document.gbqf.q.focus();}\\n}\\n})();</script><div id=\"mngb\"><div id=gbar><nobr><b class=gb1>Search</b> <a class=gb1 href=\"https://www.google.com/imghp?hl=en&tab=wi\">Images</a> <a class=gb1 href=\"https://maps.google.co.in/maps?hl=en&tab=wl\">Maps</a> <a class=gb1 href=\"https://play.google.com/?hl=en&tab=w8\">Play</a> <a class=gb1 href=\"https://www.youtube.com/?tab=w1\">YouTube</a> <a class=gb1 href=\"https://news.google.com/?tab=wn\">News</a> <a class=gb1 href=\"https://mail.google.com/mail/?tab=wm\">Gmail</a> <a class=gb1 href=\"https://drive.google.com/?tab=wo\">Drive</a> <a class=gb1 style=\"text-decoration:none\" href=\"https://www.google.co.in/intl/en/about/products?tab=wh\"><u>More</u> &raquo;</a></nobr></div><div id=guser width=100%><nobr><span id=gbn class=gbi></span><span id=gbf class=gbf></span><span id=gbe></span><a href=\"http://www.google.co.in/history/optout?hl=en\" class=gb4>Web History</a> | <a  href=\"/preferences?hl=en\" class=gb4>Settings</a> | <a target=_top id=gb_70 href=\"https://accounts.google.com/ServiceLogin?hl=en&passive=true&continue=https://www.google.com/&ec=GAZAAQ\" class=gb4>Sign in</a></nobr></div><div class=gbh style=left:0></div><div class=gbh style=right:0></div></div><center><br clear=\"all\" id=\"lgpd\"><div id=\"lga\"><img alt=\"Google\" height=\"92\" src=\"/images/branding/googlelogo/1x/googlelogo_white_background_color_272x92dp.png\" style=\"padding:28px 0 14px\" width=\"272\" id=\"hplogo\"><br><br></div><form action=\"/search\" name=\"f\"><table cellpadding=\"0\" cellspacing=\"0\"><tr valign=\"top\"><td width=\"25%\">&nbsp;</td><td align=\"center\" nowrap=\"\"><input name=\"ie\" value=\"ISO-8859-1\" type=\"hidden\"><input value=\"en-IN\" name=\"hl\" type=\"hidden\"><input name=\"source\" type=\"hidden\" value=\"hp\"><input name=\"biw\" type=\"hidden\"><input name=\"bih\" type=\"hidden\"><div class=\"ds\" style=\"height:32px;margin:4px 0\"><input class=\"lst\" style=\"margin:0;padding:5px 8px 0 6px;vertical-align:top;color:#000\" autocomplete=\"off\" value=\"\" title=\"Google Search\" maxlength=\"2048\" name=\"q\" size=\"57\"></div><br style=\"line-height:0\"><span class=\"ds\"><span class=\"lsbb\"><input class=\"lsb\" value=\"Google Search\" name=\"btnG\" type=\"submit\"></span></span><span class=\"ds\"><span class=\"lsbb\"><input class=\"lsb\" id=\"tsuid_1\" value=\"I\\'m Feeling Lucky\" name=\"btnI\" type=\"submit\"><script nonce=\"I3HalWFNGpphQ9BHgcx4bg\">(function(){var id=\\'tsuid_1\\';document.getElementById(id).onclick = function(){if (this.form.q.value){this.checked = 1;if (this.form.iflsig)this.form.iflsig.disabled = false;}\\nelse top.location=\\'/doodles/\\';};})();</script><input value=\"AOEireoAAAAAZJzd3J3_J8n4GApBwRpvbc_iNrIk3cei\" name=\"iflsig\" type=\"hidden\"></span></span></td><td class=\"fl sblc\" align=\"left\" nowrap=\"\" width=\"25%\"><a href=\"/advanced_search?hl=en-IN&amp;authuser=0\">Advanced search</a></td></tr></table><input id=\"gbv\" name=\"gbv\" type=\"hidden\" value=\"1\"><script nonce=\"I3HalWFNGpphQ9BHgcx4bg\">(function(){var a,b=\"1\";if(document&&document.getElementById)if(\"undefined\"!=typeof XMLHttpRequest)b=\"2\";else if(\"undefined\"!=typeof ActiveXObject){var c,d,e=[\"MSXML2.XMLHTTP.6.0\",\"MSXML2.XMLHTTP.3.0\",\"MSXML2.XMLHTTP\",\"Microsoft.XMLHTTP\"];for(c=0;d=e[c++];)try{new ActiveXObject(d),b=\"2\"}catch(h){}}a=b;if(\"2\"==a&&-1==location.search.indexOf(\"&gbv=2\")){var f=google.gbvu,g=document.getElementById(\"gbv\");g&&(g.value=a);f&&window.setTimeout(function(){location.href=f},0)};}).call(this);</script></form><div id=\"gac_scont\"></div><div style=\"font-size:83%;min-height:3.5em\"><br><div id=\"gws-output-pages-elements-homepage_additional_languages__als\"><style>#gws-output-pages-elements-homepage_additional_languages__als{font-size:small;margin-bottom:24px}#SIvCob{color:#3c4043;display:inline-block;line-height:28px;}#SIvCob a{padding:0 3px;}.H6sW5{display:inline-block;margin:0 2px;white-space:nowrap}.z4hgWe{display:inline-block;margin:0 2px}</style><div id=\"SIvCob\">Google offered in:  <a href=\"https://www.google.com/setprefs?sig=0_PYNF4Sy_3i2YaWpDcBQwyls0TOs%3D&amp;hl=hi&amp;source=homepage&amp;sa=X&amp;ved=0ahUKEwjz652OnOf_AhXTZt4KHXokDFsQ2ZgBCAU\">&#2361;&#2367;&#2344;&#2381;&#2342;&#2368;</a>    <a href=\"https://www.google.com/setprefs?sig=0_PYNF4Sy_3i2YaWpDcBQwyls0TOs%3D&amp;hl=bn&amp;source=homepage&amp;sa=X&amp;ved=0ahUKEwjz652OnOf_AhXTZt4KHXokDFsQ2ZgBCAY\">&#2476;&#2494;&#2434;&#2482;&#2494;</a>    <a href=\"https://www.google.com/setprefs?sig=0_PYNF4Sy_3i2YaWpDcBQwyls0TOs%3D&amp;hl=te&amp;source=homepage&amp;sa=X&amp;ved=0ahUKEwjz652OnOf_AhXTZt4KHXokDFsQ2ZgBCAc\">&#3108;&#3142;&#3122;&#3137;&#3095;&#3137;</a>    <a href=\"https://www.google.com/setprefs?sig=0_PYNF4Sy_3i2YaWpDcBQwyls0TOs%3D&amp;hl=mr&amp;source=homepage&amp;sa=X&amp;ved=0ahUKEwjz652OnOf_AhXTZt4KHXokDFsQ2ZgBCAg\">&#2350;&#2352;&#2366;&#2336;&#2368;</a>    <a href=\"https://www.google.com/setprefs?sig=0_PYNF4Sy_3i2YaWpDcBQwyls0TOs%3D&amp;hl=ta&amp;source=homepage&amp;sa=X&amp;ved=0ahUKEwjz652OnOf_AhXTZt4KHXokDFsQ2ZgBCAk\">&#2980;&#2990;&#3007;&#2996;&#3021;</a>    <a href=\"https://www.google.com/setprefs?sig=0_PYNF4Sy_3i2YaWpDcBQwyls0TOs%3D&amp;hl=gu&amp;source=homepage&amp;sa=X&amp;ved=0ahUKEwjz652OnOf_AhXTZt4KHXokDFsQ2ZgBCAo\">&#2711;&#2753;&#2716;&#2736;&#2750;&#2724;&#2752;</a>    <a href=\"https://www.google.com/setprefs?sig=0_PYNF4Sy_3i2YaWpDcBQwyls0TOs%3D&amp;hl=kn&amp;source=homepage&amp;sa=X&amp;ved=0ahUKEwjz652OnOf_AhXTZt4KHXokDFsQ2ZgBCAs\">&#3221;&#3240;&#3277;&#3240;&#3233;</a>    <a href=\"https://www.google.com/setprefs?sig=0_PYNF4Sy_3i2YaWpDcBQwyls0TOs%3D&amp;hl=ml&amp;source=homepage&amp;sa=X&amp;ved=0ahUKEwjz652OnOf_AhXTZt4KHXokDFsQ2ZgBCAw\">&#3374;&#3378;&#3375;&#3390;&#3379;&#3330;</a>    <a href=\"https://www.google.com/setprefs?sig=0_PYNF4Sy_3i2YaWpDcBQwyls0TOs%3D&amp;hl=pa&amp;source=homepage&amp;sa=X&amp;ved=0ahUKEwjz652OnOf_AhXTZt4KHXokDFsQ2ZgBCA0\">&#2602;&#2672;&#2588;&#2622;&#2604;&#2624;</a>  </div></div></div><span id=\"footer\"><div style=\"font-size:10pt\"><div style=\"margin:19px auto;text-align:center\" id=\"WqQANb\"><a href=\"/intl/en/ads/\">Advertising</a><a href=\"http://www.google.co.in/services/\">Business Solutions</a><a href=\"/intl/en/about.html\">About Google</a><a href=\"https://www.google.com/setprefdomain?prefdom=IN&amp;prev=https://www.google.co.in/&amp;sig=K_jNEn3S0FGDU4cRr-v_voQqI7Bng%3D\">Google.co.in</a></div></div><p style=\"font-size:8pt;color:#70757a\">&copy; 2023 - <a href=\"/intl/en/policies/privacy/\">Privacy</a> - <a href=\"/intl/en/policies/terms/\">Terms</a></p></span></center><script nonce=\"I3HalWFNGpphQ9BHgcx4bg\">(function(){window.google.cdo={height:757,width:1440};(function(){var a=window.innerWidth,b=window.innerHeight;if(!a||!b){var c=window.document,d=\"CSS1Compat\"==c.compatMode?c.documentElement:c.body;a=d.clientWidth;b=d.clientHeight}\\nif(a&&b&&(a!=google.cdo.width||b!=google.cdo.height)){var e=google,f=e.log,g=\"/client_204?&atyp=i&biw=\"+a+\"&bih=\"+b+\"&ei=\"+google.kEI,h=\"\",k=[],l=void 0!==window.google&&void 0!==window.google.kOPI&&0!==window.google.kOPI?window.google.kOPI:null;null!=l&&k.push([\"opi\",l.toString()]);for(var m=0;m<k.length;m++){if(0===m||0<m)h+=\"&\";h+=k[m][0]+\"=\"+k[m][1]}f.call(e,\"\",\"\",g+h)};}).call(this);})();</script> <script nonce=\"I3HalWFNGpphQ9BHgcx4bg\">(function(){google.xjs={ck:\\'xjs.hp.2vlE0-P8LsA.L.X.O\\',cs:\\'ACT90oEibXgcG_nFK3hl3Vek3wSYr6_dRg\\',csss:\\'ACT90oFUwNHh3P4U3OCm9vOSCbCsEZ4n7g\\',excm:[],sepcss:false};})();</script>    <script nonce=\"I3HalWFNGpphQ9BHgcx4bg\">(function(){var u=\\'/xjs/_/js/k\\\\x3dxjs.hp.en.n1cZGH8ybjg.O/am\\\\x3dAAAAAAAAAAAgAAAAAAAAAAAAAOgEACgAYAE/d\\\\x3d1/ed\\\\x3d1/rs\\\\x3dACT90oHJgQX9T8-199fWcWVKEUp_7NlJ0w/m\\\\x3dsb_he,d,cEt90b,SNUn3,qddgKe,sTsDMc,dtl0hd,eHDfl\\';var amd=0;\\nvar e=this||self,f=function(c){return c};var g;var k=function(c){this.g=c};k.prototype.toString=function(){return this.g+\"\"};var m={};\\nfunction q(){var c=u,n=function(){};google.lx=google.stvsc?n:function(){google.timers&&google.timers.load&&google.tick&&google.tick(\"load\",\"xjsls\");var a=document;var b=\"SCRIPT\";\"application/xhtml+xml\"===a.contentType&&(b=b.toLowerCase());b=a.createElement(b);a=null===c?\"null\":void 0===c?\"undefined\":c;if(void 0===g){var d=null;var l=e.trustedTypes;if(l&&l.createPolicy){try{d=l.createPolicy(\"goog#html\",{createHTML:f,createScript:f,createScriptURL:f})}catch(r){e.console&&e.console.error(r.message)}g=\\nd}else g=d}a=(d=g)?d.createScriptURL(a):a;a=new k(a,m);b.src=a instanceof k&&a.constructor===k?a.g:\"type_error:TrustedResourceUrl\";var h,p;(h=(a=null==(p=(h=(b.ownerDocument&&b.ownerDocument.defaultView||window).document).querySelector)?void 0:p.call(h,\"script[nonce]\"))?a.nonce||a.getAttribute(\"nonce\")||\"\":\"\")&&b.setAttribute(\"nonce\",h);document.body.appendChild(b);google.psa=!0;google.lx=n};google.bx||google.lx()};google.xjsu=u;e._F_jsUrl=u;setTimeout(function(){0<amd?google.caft(function(){return q()},amd):q()},0);})();window._ = window._ || {};window._DumpException = _._DumpException = function(e){throw e;};window._s = window._s || {};_s._DumpException = _._DumpException;window._qs = window._qs || {};_qs._DumpException = _._DumpException;function _F_installCss(c){}\\n(function(){google.jl={blt:\\'none\\',chnk:0,dw:false,dwu:true,emtn:0,end:0,ico:false,ikb:0,ine:false,injs:\\'none\\',injt:0,injth:0,injv2:false,lls:\\'default\\',pdt:0,rep:0,snet:true,strt:0,ubm:false,uwp:true};})();(function(){var pmc=\\'{\\\\x22d\\\\x22:{},\\\\x22sb_he\\\\x22:{\\\\x22agen\\\\x22:true,\\\\x22cgen\\\\x22:true,\\\\x22client\\\\x22:\\\\x22heirloom-hp\\\\x22,\\\\x22dh\\\\x22:true,\\\\x22ds\\\\x22:\\\\x22\\\\x22,\\\\x22fl\\\\x22:true,\\\\x22host\\\\x22:\\\\x22google.com\\\\x22,\\\\x22jsonp\\\\x22:true,\\\\x22msgs\\\\x22:{\\\\x22cibl\\\\x22:\\\\x22Clear Search\\\\x22,\\\\x22dym\\\\x22:\\\\x22Did you mean:\\\\x22,\\\\x22lcky\\\\x22:\\\\x22I\\\\\\\\u0026#39;m Feeling Lucky\\\\x22,\\\\x22lml\\\\x22:\\\\x22Learn more\\\\x22,\\\\x22psrc\\\\x22:\\\\x22This search was removed from your \\\\\\\\u003Ca href\\\\x3d\\\\\\\\\\\\x22/history\\\\\\\\\\\\x22\\\\\\\\u003EWeb History\\\\\\\\u003C/a\\\\\\\\u003E\\\\x22,\\\\x22psrl\\\\x22:\\\\x22Remove\\\\x22,\\\\x22sbit\\\\x22:\\\\x22Search by image\\\\x22,\\\\x22srch\\\\x22:\\\\x22Google Search\\\\x22},\\\\x22ovr\\\\x22:{},\\\\x22pq\\\\x22:\\\\x22\\\\x22,\\\\x22rfs\\\\x22:[],\\\\x22sbas\\\\x22:\\\\x220 3px 8px 0 rgba(0,0,0,0.2),0 0 0 1px rgba(0,0,0,0.08)\\\\x22,\\\\x22stok\\\\x22:\\\\x22ybgQKkpuKLTDvNTrIMs9UsmwlSk\\\\x22}}\\';google.pmc=JSON.parse(pmc);})();(function(){\\nvar b=function(a){var c=0;return function(){return c<a.length?{done:!1,value:a[c++]}:{done:!0}}},e=this||self;var g,h;a:{for(var k=[\"CLOSURE_FLAGS\"],l=e,n=0;n<k.length;n++)if(l=l[k[n]],null==l){h=null;break a}h=l}var p=h&&h[610401301];g=null!=p?p:!1;var q,r=e.navigator;q=r?r.userAgentData||null:null;function t(a){return g?q?q.brands.some(function(c){return(c=c.brand)&&-1!=c.indexOf(a)}):!1:!1}function u(a){var c;a:{if(c=e.navigator)if(c=c.userAgent)break a;c=\"\"}return-1!=c.indexOf(a)};function v(){return g?!!q&&0<q.brands.length:!1}function w(){return u(\"Safari\")&&!(x()||(v()?0:u(\"Coast\"))||(v()?0:u(\"Opera\"))||(v()?0:u(\"Edge\"))||(v()?t(\"Microsoft Edge\"):u(\"Edg/\"))||(v()?t(\"Opera\"):u(\"OPR\"))||u(\"Firefox\")||u(\"FxiOS\")||u(\"Silk\")||u(\"Android\"))}function x(){return v()?t(\"Chromium\"):(u(\"Chrome\")||u(\"CriOS\"))&&!(v()?0:u(\"Edge\"))||u(\"Silk\")}function y(){return u(\"Android\")&&!(x()||u(\"Firefox\")||u(\"FxiOS\")||(v()?0:u(\"Opera\"))||u(\"Silk\"))};var z=v()?!1:u(\"Trident\")||u(\"MSIE\");y();x();w();var A=!z&&!w(),D=function(a){if(/-[a-z]/.test(\"ved\"))return null;if(A&&a.dataset){if(y()&&!(\"ved\"in a.dataset))return null;a=a.dataset.ved;return void 0===a?null:a}return a.getAttribute(\"data-\"+\"ved\".replace(/([A-Z])/g,\"-$1\").toLowerCase())};var E=[],F=null;function G(a){a=a.target;var c=performance.now(),f=[],H=f.concat,d=E;if(!(d instanceof Array)){var m=\"undefined\"!=typeof Symbol&&Symbol.iterator&&d[Symbol.iterator];if(m)d=m.call(d);else if(\"number\"==typeof d.length)d={next:b(d)};else throw Error(\"a`\"+String(d));for(var B=[];!(m=d.next()).done;)B.push(m.value);d=B}E=H.call(f,d,[c]);if(a&&a instanceof HTMLElement)if(a===F){if(c=4<=E.length)c=5>(E[E.length-1]-E[E.length-4])/1E3;if(c){c=google.getEI(a);a.hasAttribute(\"data-ved\")?f=a?D(a)||\"\":\"\":f=(f=\\na.closest(\"[data-ved]\"))?D(f)||\"\":\"\";f=f||\"\";if(a.hasAttribute(\"jsname\"))a=a.getAttribute(\"jsname\");else{var C;a=null==(C=a.closest(\"[jsname]\"))?void 0:C.getAttribute(\"jsname\")}google.log(\"rcm\",\"&ei=\"+c+\"&ved=\"+f+\"&jsname=\"+(a||\"\"))}}else F=a,E=[c]}window.document.addEventListener(\"DOMContentLoaded\",function(){document.body.addEventListener(\"click\",G)});}).call(this);</script></body></html>'\n",
      "<title>Google</title>\n"
     ]
    }
   ],
   "source": [
    "import re,urllib\n",
    "import urllib.request # this will request to server to open website\n",
    "sites=[\"https://www.google.com\"]\n",
    "for s in sites:\n",
    "    print(\"searching ...\",s)\n",
    "    \n",
    "    u=urllib.request.urlopen(s)\n",
    "    text=u.read() \n",
    "    print(text)\n",
    "    title=re.findall(\"<title>.*</title>\",str(text),re.IGNORECASE) # in html page , there will be title present in this pattern.\n",
    "    # in between title and title let it be anything present in it.\n",
    "    print(title[0]) # we want to print only the first match."
   ]
  },
  {
   "cell_type": "code",
   "execution_count": 5,
   "id": "d46dff82",
   "metadata": {},
   "outputs": [
    {
     "name": "stdout",
     "output_type": "stream",
     "text": [
      "[]\n"
     ]
    }
   ],
   "source": [
    "# write a program to read all mobile numbers present in redbus.\n",
    "import re,urllib\n",
    "import urllib.request\n",
    "u=urllib.request.urlopen(\"https://www.redbus.in/info/contactus\")\n",
    "# in this we have phone numbers contact as \n",
    "# 011-39412345\n",
    "# 022-39412345\n",
    "# 080-39412345\n",
    "# we need to write format for this.\n",
    "# first three digits are present and then - is present.\n",
    "text=u.read()\n",
    "numbers=re.findall(\"[0-9]{3}[-][0-9]{8}\",str(text),re.IGNORECASE)\n",
    "print(numbers)\n",
    "# no output since this is very old website information ."
   ]
  },
  {
   "cell_type": "code",
   "execution_count": 6,
   "id": "740c596e",
   "metadata": {},
   "outputs": [
    {
     "name": "stdout",
     "output_type": "stream",
     "text": [
      "['315828', '560008', '588537', '525600', '497263', '225500', '560008', '560017', '919945', '600000', '641015', '380009', '452001', '500081', '700091', '919945', '600000', '600032', '302006', '400064', '411014', '110001', '020833']\n"
     ]
    }
   ],
   "source": [
    "# program to print pin codes present in contacts page of the redbus.\n",
    "import re,urllib\n",
    "import urllib.request\n",
    "u=urllib.request.urlopen(\"https://www.redbus.in/info/contactus\")\n",
    "# we need to write format for this.\n",
    "# first three digits are present and then - is present.\n",
    "text=u.read()\n",
    "numbers=re.findall(\"[0-9]{6}\",str(text),re.IGNORECASE)\n",
    "print(numbers)"
   ]
  },
  {
   "cell_type": "markdown",
   "id": "513ef93b",
   "metadata": {},
   "source": [
    "#### write a program to find whether a gmail is valid or not using regular expressions."
   ]
  },
  {
   "cell_type": "code",
   "execution_count": 2,
   "id": "c2a63f22",
   "metadata": {},
   "outputs": [
    {
     "name": "stdout",
     "output_type": "stream",
     "text": [
      "enter gmail:indra@.com\n",
      "None\n"
     ]
    }
   ],
   "source": [
    "# username,domain should present\n",
    "# first character is alphanumeric.\n",
    "# next charcaters can be alphanumeric or _ or .\n",
    "#    \\w[a-zA-Z0-9_.]*@gamil[.]com\n",
    "\n",
    "import re\n",
    "mail=input(\"enter gmail:\")\n",
    "res=re.fullmatch(\"\\w[a-zA-Z0-9_.]*@gamil[.]com\",mail)\n",
    "print(res)"
   ]
  },
  {
   "cell_type": "code",
   "execution_count": 4,
   "id": "1b073b12",
   "metadata": {},
   "outputs": [
    {
     "name": "stdout",
     "output_type": "stream",
     "text": [
      "enter gmail:indra@gmail.com\n",
      "<re.Match object; span=(0, 15), match='indra@gmail.com'>\n"
     ]
    }
   ],
   "source": [
    "import re\n",
    "mail=input(\"enter gmail:\")\n",
    "res=re.fullmatch(\"\\w[a-zA-Z0-9_.]*@gmail[.]com\",mail)\n",
    "print(res)"
   ]
  },
  {
   "cell_type": "code",
   "execution_count": 6,
   "id": "1e9e74f4",
   "metadata": {},
   "outputs": [
    {
     "name": "stdout",
     "output_type": "stream",
     "text": [
      "enter gmail:swetha@dv2.com\n",
      "<re.Match object; span=(0, 14), match='swetha@dv2.com'>\n"
     ]
    }
   ],
   "source": [
    "# some other gmails have the domain their individual name.\n",
    "import re\n",
    "mail=input(\"enter gmail:\")\n",
    "res=re.fullmatch(\"\\w[a-zA-Z0-9_.]*@[a-zA-Z0-9]+[.]com\",mail)\n",
    "print(res)"
   ]
  },
  {
   "cell_type": "code",
   "execution_count": 7,
   "id": "3b763682",
   "metadata": {},
   "outputs": [
    {
     "name": "stdout",
     "output_type": "stream",
     "text": [
      "enter gmail:phani@reddiff.com\n",
      "<re.Match object; span=(0, 17), match='phani@reddiff.com'>\n"
     ]
    }
   ],
   "source": [
    "import re\n",
    "mail=input(\"enter gmail:\")\n",
    "res=re.fullmatch(\"\\w[a-zA-Z0-9_.]*@(gmail|reddiff)[.]com\",mail) # either gmail or reddiff.\n",
    "print(res)"
   ]
  },
  {
   "cell_type": "code",
   "execution_count": 1,
   "id": "c0afc972",
   "metadata": {},
   "outputs": [],
   "source": [
    "# check whether car registraton number is valid TS number or not.\n",
    " # TS07EA7777\n",
    "# first two are fixed as  TS.\n",
    "# next two digits are upto 29 only.\n",
    "# so at one place [012] and then [0-9]\n",
    "# next [A-Z]{2}\n",
    "# [0-9]{4}"
   ]
  },
  {
   "cell_type": "markdown",
   "id": "8644ea6c",
   "metadata": {},
   "source": [
    "# sundeep saradhy RE videos"
   ]
  },
  {
   "cell_type": "markdown",
   "id": "6c8d536d",
   "metadata": {},
   "source": [
    "1. Sequence of characters used for pattern matching.\n",
    "2. findall() returns list of all the matches. Returns empty list if there are no matches.\n",
    "3. search() returns the match object if there are any matches.\n",
    " 1. for this match object have different methods such as start(),span() [a tuple of start and end positions of match] and string.\n",
    "    string will return the actual string used for pattern matching."
   ]
  },
  {
   "cell_type": "code",
   "execution_count": 2,
   "id": "7fda8ab6",
   "metadata": {},
   "outputs": [
    {
     "name": "stdout",
     "output_type": "stream",
     "text": [
      "['ab', 'ab', 'ab', 'ab', 'ab', 'ab', 'ab', 'ab', 'ab']\n"
     ]
    }
   ],
   "source": [
    "import re\n",
    "res=re.findall(\"ab\",\"abababbabbbbaaabbbababababa\")\n",
    "print(res)"
   ]
  },
  {
   "cell_type": "raw",
   "id": "794b0591",
   "metadata": {},
   "source": [
    "# re.split(\"pattern\",source-string,maxsplit[optional])\n",
    "# maxsplit means how many times split need to be done."
   ]
  },
  {
   "cell_type": "code",
   "execution_count": 5,
   "id": "22d75a0a",
   "metadata": {},
   "outputs": [
    {
     "name": "stdout",
     "output_type": "stream",
     "text": [
      "['', 'b', 'b', 'bb', 'bbbb', '', '', '', '', '', '', '', '', '', '', 'b', 'b', 'b', 'b', 'b', '']\n"
     ]
    }
   ],
   "source": [
    "import re\n",
    "res=re.split(\"a\",\"abababbabbbbaaaaaaaaaaabababababa\")\n",
    "print(res)"
   ]
  },
  {
   "cell_type": "code",
   "execution_count": 8,
   "id": "0229b82f",
   "metadata": {},
   "outputs": [
    {
     "name": "stdout",
     "output_type": "stream",
     "text": [
      "['ph', 'nindr', ' ']\n"
     ]
    }
   ],
   "source": [
    "import re\n",
    "res=re.split(\"a\",\"phanindra \")\n",
    "print(res)"
   ]
  },
  {
   "cell_type": "code",
   "execution_count": 9,
   "id": "1c57b577",
   "metadata": {},
   "outputs": [
    {
     "name": "stdout",
     "output_type": "stream",
     "text": [
      "['ph', 'nindr', ' k', 'nnaya ']\n"
     ]
    }
   ],
   "source": [
    "import re\n",
    "res=re.split(\"a\",\"phanindra kannaya \",3)\n",
    "print(res)"
   ]
  },
  {
   "cell_type": "raw",
   "id": "3244e809",
   "metadata": {},
   "source": [
    "# re.split(\"old-pattern\",\"new-pattern\",source-string,no of occurences[optional])\n",
    "# depending on the number of occurences, the strings will be replaced.\n"
   ]
  },
  {
   "cell_type": "code",
   "execution_count": 21,
   "id": "9ac91948",
   "metadata": {},
   "outputs": [
    {
     "name": "stdout",
     "output_type": "stream",
     "text": [
      "<re.Match object; span=(2, 3), match='a'>\n"
     ]
    }
   ],
   "source": [
    "import re\n",
    "res=re.search(\"a\",\"phanindra \")\n",
    "print(res)"
   ]
  },
  {
   "cell_type": "code",
   "execution_count": 11,
   "id": "46ab4e93",
   "metadata": {},
   "outputs": [
    {
     "data": {
      "text/plain": [
       "(2, 3)"
      ]
     },
     "execution_count": 11,
     "metadata": {},
     "output_type": "execute_result"
    }
   ],
   "source": [
    "res.span()"
   ]
  },
  {
   "cell_type": "code",
   "execution_count": 13,
   "id": "4d6a4a24",
   "metadata": {},
   "outputs": [
    {
     "data": {
      "text/plain": [
       "'a'"
      ]
     },
     "execution_count": 13,
     "metadata": {},
     "output_type": "execute_result"
    }
   ],
   "source": [
    "res.group()"
   ]
  },
  {
   "cell_type": "code",
   "execution_count": 14,
   "id": "60f0f9c4",
   "metadata": {},
   "outputs": [
    {
     "data": {
      "text/plain": [
       "2"
      ]
     },
     "execution_count": 14,
     "metadata": {},
     "output_type": "execute_result"
    }
   ],
   "source": [
    "res.start()"
   ]
  },
  {
   "cell_type": "code",
   "execution_count": 15,
   "id": "0386d3c9",
   "metadata": {},
   "outputs": [
    {
     "data": {
      "text/plain": [
       "3"
      ]
     },
     "execution_count": 15,
     "metadata": {},
     "output_type": "execute_result"
    }
   ],
   "source": [
    "res.end()"
   ]
  },
  {
   "cell_type": "code",
   "execution_count": 23,
   "id": "cb81e9d5",
   "metadata": {},
   "outputs": [
    {
     "data": {
      "text/plain": [
       "'phanindra '"
      ]
     },
     "execution_count": 23,
     "metadata": {},
     "output_type": "execute_result"
    }
   ],
   "source": [
    "res.string # returns the complete string from which we need to search."
   ]
  },
  {
   "cell_type": "code",
   "execution_count": 16,
   "id": "438e017d",
   "metadata": {},
   "outputs": [
    {
     "name": "stdout",
     "output_type": "stream",
     "text": [
      "['Phanindra', 'is', 'a', 'great', 'data', 'scientist.']\n"
     ]
    }
   ],
   "source": [
    "res=re.split(\" \",\"Phanindra is a great data scientist.\")\n",
    "print(res)"
   ]
  },
  {
   "cell_type": "code",
   "execution_count": 17,
   "id": "31b14141",
   "metadata": {},
   "outputs": [
    {
     "name": "stdout",
     "output_type": "stream",
     "text": [
      "['Phanindra', 'is', 'a great data scientist.']\n"
     ]
    }
   ],
   "source": [
    "res=re.split(\" \",\"Phanindra is a great data scientist.\",2) # only two splits\n",
    "print(res)"
   ]
  },
  {
   "cell_type": "code",
   "execution_count": 18,
   "id": "8afc78eb",
   "metadata": {},
   "outputs": [
    {
     "name": "stdout",
     "output_type": "stream",
     "text": [
      "Phanindra&is&a great data scientist.\n"
     ]
    }
   ],
   "source": [
    "res=re.sub(\" \",\"&\",\"Phanindra is a great data scientist.\",2) # only two splits\n",
    "print(res)"
   ]
  },
  {
   "cell_type": "markdown",
   "id": "30303f69",
   "metadata": {},
   "source": [
    "# Meta characters and special sequences"
   ]
  },
  {
   "cell_type": "raw",
   "id": "cf8e4364",
   "metadata": {},
   "source": [
    "[] -> returns a match if contains pattern/characters specified in [].\n",
    " .  --> accepts any charcaters except new line character.\n",
    "    ex- sund..p  --> in this two dots any characters can be accepted here except new line.\n",
    "    {} --> specified number of the occurences.\n",
    "    \n",
    "   \\---? special sequences such as \\d or \\w."
   ]
  },
  {
   "cell_type": "raw",
   "id": "a413d6bb",
   "metadata": {},
   "source": [
    "[^abc]--> if string contains characters except specified.\n",
    "[2-7] we can also give the range here.\n",
    "\\z --> if given  string ends with specified characters.\n",
    "[0-9][0-9] --> we can give like this if string contains two digits from 00-99."
   ]
  },
  {
   "cell_type": "code",
   "execution_count": 25,
   "id": "8b042cee",
   "metadata": {},
   "outputs": [
    {
     "name": "stdout",
     "output_type": "stream",
     "text": [
      "['greatest']\n"
     ]
    }
   ],
   "source": [
    "import re\n",
    "str=\"I am a greatest data scientist in the world.\"\n",
    "res=re.findall(\"gre..est\",str) # three charcaters must be there after the gre and they can be anything.\n",
    "print(res)"
   ]
  },
  {
   "cell_type": "code",
   "execution_count": 26,
   "id": "a6e400c5",
   "metadata": {},
   "outputs": [
    {
     "name": "stdout",
     "output_type": "stream",
     "text": [
      "[]\n"
     ]
    }
   ],
   "source": [
    "import re\n",
    "str=\"I am a greatest data scientist in the world.\"\n",
    "res=re.findall(\"gra..est\",str) # three charcaters must be there after the gra and they can be anything.\n",
    "print(res)"
   ]
  },
  {
   "cell_type": "code",
   "execution_count": 27,
   "id": "eb3b1884",
   "metadata": {},
   "outputs": [
    {
     "name": "stdout",
     "output_type": "stream",
     "text": [
      "['great']\n"
     ]
    }
   ],
   "source": [
    "import re\n",
    "str=\"I am a greatest data scientist in the world.\"\n",
    "res=re.findall(\"gre..\",str) \n",
    "print(res)"
   ]
  },
  {
   "cell_type": "code",
   "execution_count": 28,
   "id": "ec848d2e",
   "metadata": {},
   "outputs": [
    {
     "name": "stdout",
     "output_type": "stream",
     "text": [
      "['greatest data scientist in the world.']\n"
     ]
    }
   ],
   "source": [
    "import re\n",
    "str=\"I am a greatest data scientist in the world.\"\n",
    "res=re.findall(\"gre..*\",str) \n",
    "print(res)"
   ]
  },
  {
   "cell_type": "code",
   "execution_count": 32,
   "id": "a65c6acb",
   "metadata": {},
   "outputs": [
    {
     "name": "stdout",
     "output_type": "stream",
     "text": [
      "['a sci', 'ist i']\n"
     ]
    }
   ],
   "source": [
    "import re\n",
    "str=\"I am a greatest data scientist in the world.\"\n",
    "res=re.findall(\"....i+\",str) # three charcaters must be there after the gra and they can be anything.\n",
    "print(res)"
   ]
  },
  {
   "cell_type": "code",
   "execution_count": null,
   "id": "ecf30e2f",
   "metadata": {},
   "outputs": [],
   "source": []
  }
 ],
 "metadata": {
  "kernelspec": {
   "display_name": "Python 3 (ipykernel)",
   "language": "python",
   "name": "python3"
  },
  "language_info": {
   "codemirror_mode": {
    "name": "ipython",
    "version": 3
   },
   "file_extension": ".py",
   "mimetype": "text/x-python",
   "name": "python",
   "nbconvert_exporter": "python",
   "pygments_lexer": "ipython3",
   "version": "3.9.13"
  }
 },
 "nbformat": 4,
 "nbformat_minor": 5
}
